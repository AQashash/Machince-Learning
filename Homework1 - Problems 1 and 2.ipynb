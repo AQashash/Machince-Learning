{
 "cells": [
  {
   "cell_type": "code",
   "execution_count": 491,
   "id": "c913857d",
   "metadata": {},
   "outputs": [],
   "source": [
    "import numpy as np \n",
    "import pandas as pd \n",
    "import matplotlib.pyplot as plt"
   ]
  },
  {
   "cell_type": "code",
   "execution_count": 492,
   "id": "655c5696",
   "metadata": {},
   "outputs": [
    {
     "data": {
      "text/plain": [
       "545"
      ]
     },
     "execution_count": 492,
     "metadata": {},
     "output_type": "execute_result"
    }
   ],
   "source": [
    "housing = pd.read_csv('Housing.csv')\n",
    "housing.head()\n",
    "M=len(housing)\n",
    "M "
   ]
  },
  {
   "cell_type": "code",
   "execution_count": 493,
   "id": "78ae3d54",
   "metadata": {},
   "outputs": [],
   "source": [
    "def compute_cost(X,y,theta):\n",
    "    predictions = X.dot(theta) \n",
    "    errors = np.subtract(predictions, y)\n",
    "    sqrErrors = np.square(errors)\n",
    "    J = 1 / (2 * M) * np.sum(sqrErrors)\n",
    "    return J"
   ]
  },
  {
   "cell_type": "code",
   "execution_count": 494,
   "id": "f2befb0d",
   "metadata": {},
   "outputs": [],
   "source": [
    "def gradient_descent(X, y, theta, alpha, iterations):\n",
    "    cost_history = np.zeros(iterations)\n",
    "    for i in range(iterations):\n",
    "        predictions = X.dot(theta)\n",
    "        errors = np.subtract(predictions, y)\n",
    "        sum_delta = (alpha / M) * X.transpose().dot(errors);\n",
    "        theta = theta - sum_delta;\n",
    "        cost_history[i] = compute_cost(X, y, theta)\n",
    "        \n",
    "    return theta, cost_history"
   ]
  },
  {
   "cell_type": "code",
   "execution_count": 495,
   "id": "502df596",
   "metadata": {},
   "outputs": [],
   "source": [
    "#Problem 1A"
   ]
  },
  {
   "cell_type": "code",
   "execution_count": 496,
   "id": "f117e022",
   "metadata": {},
   "outputs": [
    {
     "data": {
      "text/html": [
       "<div>\n",
       "<style scoped>\n",
       "    .dataframe tbody tr th:only-of-type {\n",
       "        vertical-align: middle;\n",
       "    }\n",
       "\n",
       "    .dataframe tbody tr th {\n",
       "        vertical-align: top;\n",
       "    }\n",
       "\n",
       "    .dataframe thead th {\n",
       "        text-align: right;\n",
       "    }\n",
       "</style>\n",
       "<table border=\"1\" class=\"dataframe\">\n",
       "  <thead>\n",
       "    <tr style=\"text-align: right;\">\n",
       "      <th></th>\n",
       "      <th>price</th>\n",
       "      <th>area</th>\n",
       "      <th>bedrooms</th>\n",
       "      <th>bathrooms</th>\n",
       "      <th>stories</th>\n",
       "      <th>mainroad</th>\n",
       "      <th>guestroom</th>\n",
       "      <th>basement</th>\n",
       "      <th>hotwaterheating</th>\n",
       "      <th>airconditioning</th>\n",
       "      <th>parking</th>\n",
       "      <th>prefarea</th>\n",
       "      <th>furnishingstatus</th>\n",
       "    </tr>\n",
       "  </thead>\n",
       "  <tbody>\n",
       "    <tr>\n",
       "      <th>0</th>\n",
       "      <td>13300000</td>\n",
       "      <td>7420</td>\n",
       "      <td>4</td>\n",
       "      <td>2</td>\n",
       "      <td>3</td>\n",
       "      <td>1</td>\n",
       "      <td>0</td>\n",
       "      <td>0</td>\n",
       "      <td>0</td>\n",
       "      <td>1</td>\n",
       "      <td>2</td>\n",
       "      <td>1</td>\n",
       "      <td>furnished</td>\n",
       "    </tr>\n",
       "    <tr>\n",
       "      <th>1</th>\n",
       "      <td>12250000</td>\n",
       "      <td>8960</td>\n",
       "      <td>4</td>\n",
       "      <td>4</td>\n",
       "      <td>4</td>\n",
       "      <td>1</td>\n",
       "      <td>0</td>\n",
       "      <td>0</td>\n",
       "      <td>0</td>\n",
       "      <td>1</td>\n",
       "      <td>3</td>\n",
       "      <td>0</td>\n",
       "      <td>furnished</td>\n",
       "    </tr>\n",
       "    <tr>\n",
       "      <th>2</th>\n",
       "      <td>12250000</td>\n",
       "      <td>9960</td>\n",
       "      <td>3</td>\n",
       "      <td>2</td>\n",
       "      <td>2</td>\n",
       "      <td>1</td>\n",
       "      <td>0</td>\n",
       "      <td>1</td>\n",
       "      <td>0</td>\n",
       "      <td>0</td>\n",
       "      <td>2</td>\n",
       "      <td>1</td>\n",
       "      <td>semi-furnished</td>\n",
       "    </tr>\n",
       "    <tr>\n",
       "      <th>3</th>\n",
       "      <td>12215000</td>\n",
       "      <td>7500</td>\n",
       "      <td>4</td>\n",
       "      <td>2</td>\n",
       "      <td>2</td>\n",
       "      <td>1</td>\n",
       "      <td>0</td>\n",
       "      <td>1</td>\n",
       "      <td>0</td>\n",
       "      <td>1</td>\n",
       "      <td>3</td>\n",
       "      <td>1</td>\n",
       "      <td>furnished</td>\n",
       "    </tr>\n",
       "    <tr>\n",
       "      <th>4</th>\n",
       "      <td>11410000</td>\n",
       "      <td>7420</td>\n",
       "      <td>4</td>\n",
       "      <td>1</td>\n",
       "      <td>2</td>\n",
       "      <td>1</td>\n",
       "      <td>1</td>\n",
       "      <td>1</td>\n",
       "      <td>0</td>\n",
       "      <td>1</td>\n",
       "      <td>2</td>\n",
       "      <td>0</td>\n",
       "      <td>furnished</td>\n",
       "    </tr>\n",
       "  </tbody>\n",
       "</table>\n",
       "</div>"
      ],
      "text/plain": [
       "      price  area  bedrooms  bathrooms  stories  mainroad  guestroom  \\\n",
       "0  13300000  7420         4          2        3         1          0   \n",
       "1  12250000  8960         4          4        4         1          0   \n",
       "2  12250000  9960         3          2        2         1          0   \n",
       "3  12215000  7500         4          2        2         1          0   \n",
       "4  11410000  7420         4          1        2         1          1   \n",
       "\n",
       "   basement  hotwaterheating  airconditioning  parking  prefarea  \\\n",
       "0         0                0                1        2         1   \n",
       "1         0                0                1        3         0   \n",
       "2         1                0                0        2         1   \n",
       "3         1                0                1        3         1   \n",
       "4         1                0                1        2         0   \n",
       "\n",
       "  furnishingstatus  \n",
       "0        furnished  \n",
       "1        furnished  \n",
       "2   semi-furnished  \n",
       "3        furnished  \n",
       "4        furnished  "
      ]
     },
     "execution_count": 496,
     "metadata": {},
     "output_type": "execute_result"
    }
   ],
   "source": [
    "varlist = ['mainroad', 'guestroom', 'basement', 'hotwaterheating', 'airconditioning', 'prefarea']\n",
    "\n",
    "def binary_map(x):\n",
    "    return x.map({'yes': 1, \"no\": 0})\n",
    "\n",
    "housing[varlist] = housing[varlist].apply(binary_map)\n",
    "housing.head()"
   ]
  },
  {
   "cell_type": "code",
   "execution_count": 497,
   "id": "b576e530",
   "metadata": {},
   "outputs": [
    {
     "data": {
      "text/plain": [
       "(436, 13)"
      ]
     },
     "execution_count": 497,
     "metadata": {},
     "output_type": "execute_result"
    }
   ],
   "source": [
    "from sklearn.model_selection import train_test_split\n",
    "\n",
    "np.random.seed(0)\n",
    "df_train, df_test = train_test_split(housing, train_size = 0.8, test_size = 0.2)\n",
    "df_train.shape"
   ]
  },
  {
   "cell_type": "code",
   "execution_count": 498,
   "id": "cade5bb1",
   "metadata": {},
   "outputs": [],
   "source": [
    "price = df_train.values[:, 0]\n",
    "area = df_train.values[:, 1]\n",
    "bedrooms = df_train.values[:, 2]\n",
    "bathrooms = df_train.values[:, 3]\n",
    "stories = df_train.values[:, 4]\n",
    "parking = df_train.values[:, 10]\n",
    "\n",
    "M = len(df_train)\n",
    "\n",
    "#reshape arrays\n",
    "X0 = np.ones((M,1))\n",
    "X1 = area.reshape(M,1)\n",
    "X2 = bedrooms.reshape(M,1)\n",
    "X3 = bathrooms.reshape(M,1)\n",
    "X4 = stories.reshape(M,1)\n",
    "X5 = parking.reshape(M,1)\n",
    "\n",
    "# create X and Y\n",
    "X = np.hstack((X0, X1, X2, X3, X4, X5))\n",
    "Y = price"
   ]
  },
  {
   "cell_type": "code",
   "execution_count": 499,
   "id": "e895c924",
   "metadata": {},
   "outputs": [],
   "source": [
    "theta = np.zeros(6)\n",
    "iterations = 1500;\n",
    "alpha = 0.0000000001;\n",
    "\n",
    "\n",
    "#calculated results from the gradient descent\n",
    "theta, cost_history_train = gradient_descent(X, Y, theta, alpha, iterations)"
   ]
  },
  {
   "cell_type": "code",
   "execution_count": 500,
   "id": "8dd554a1",
   "metadata": {},
   "outputs": [],
   "source": [
    "# test set\n",
    "# set all variable arrays\n",
    "price = df_test.values[:, 0]\n",
    "area = df_test.values[:, 1]\n",
    "bedrooms = df_test.values[:, 2]\n",
    "bathrooms = df_test.values[:, 3]\n",
    "stories = df_test.values[:, 4]\n",
    "parking = df_test.values[:, 10]\n",
    "\n",
    "M = len(df_test)\n",
    "\n",
    "#reshape arrays\n",
    "X0 = np.ones((M,1))\n",
    "X1 = area.reshape(M,1)\n",
    "X2 = bedrooms.reshape(M,1)\n",
    "X3 = bathrooms.reshape(M,1)\n",
    "X4 = stories.reshape(M,1)\n",
    "X5 = parking.reshape(M,1)\n",
    "\n",
    "# create X and Y\n",
    "X = np.hstack((X0, X1, X2, X3, X4, X5))\n",
    "Y = price"
   ]
  },
  {
   "cell_type": "code",
   "execution_count": 501,
   "id": "7209d35b",
   "metadata": {},
   "outputs": [],
   "source": [
    "theta = np.zeros(6)\n",
    "iterations = 1500;\n",
    "alpha = 0.0000000001;\n",
    "\n",
    "theta, cost_history_test = gradient_descent(X, Y, theta, alpha, iterations)"
   ]
  },
  {
   "cell_type": "code",
   "execution_count": 502,
   "id": "5cf1126a",
   "metadata": {},
   "outputs": [
    {
     "name": "stdout",
     "output_type": "stream",
     "text": [
      "1705620317417.9792\n",
      "1540557315308.847\n"
     ]
    },
    {
     "data": {
      "image/png": "[encoded data removed]",
      "text/plain": [
       "<Figure size 720x432 with 1 Axes>"
      ]
     },
     "metadata": {
      "needs_background": "light"
     },
     "output_type": "display_data"
    }
   ],
   "source": [
    "plt.plot(range(1, iterations + 1),cost_history_train, color='blue', label = \"Training Cost\")\n",
    "plt.plot(range(1, iterations + 1),cost_history_test, color='red', label = \"Evaluation Cost\")\n",
    "plt.rcParams[\"figure.figsize\"] = (10,6)\n",
    "plt.grid()\n",
    "plt.legend()\n",
    "plt.xlabel('Number of iterations')\n",
    "plt.ylabel('Cost (J)')\n",
    "plt.title('Cost for X')\n",
    "print(cost_history_train[-1])\n",
    "print(cost_history_test[-1])"
   ]
  },
  {
   "cell_type": "code",
   "execution_count": 503,
   "id": "dbb97099",
   "metadata": {},
   "outputs": [],
   "source": [
    "#Problem 1b"
   ]
  },
  {
   "cell_type": "code",
   "execution_count": 504,
   "id": "71fe1985",
   "metadata": {},
   "outputs": [],
   "source": [
    "price = df_train.values[:, 0]\n",
    "area = df_train.values[:, 1]\n",
    "bedrooms = df_train.values[:, 2]\n",
    "bathrooms = df_train.values[:, 3]\n",
    "stories = df_train.values[:, 4]\n",
    "mainroad = df_train.values[:, 5]\n",
    "guestroom = df_train.values[:, 6]\n",
    "basement = df_train.values[:, 7]\n",
    "hotwaterheating = df_train.values[:, 8]\n",
    "airconditioning = df_train.values[:, 9]\n",
    "parking = df_train.values[:, 10]\n",
    "prefarea = df_train.values[:, 11]\n",
    "\n",
    "M = len(df_train)\n",
    "\n",
    "X0 = np.ones((M,1))\n",
    "X1 = area.reshape(M,1)\n",
    "X2 = bedrooms.reshape(M,1)\n",
    "X3 = bathrooms.reshape(M,1)\n",
    "X4 = stories.reshape(M,1)\n",
    "X5 = mainroad.reshape(M,1)\n",
    "X6 = guestroom.reshape(M,1)\n",
    "X7 = basement.reshape(M,1)\n",
    "X8 = hotwaterheating.reshape(M,1)\n",
    "X9 = airconditioning.reshape(M,1)\n",
    "X10 = parking.reshape(M,1)\n",
    "X11 = prefarea.reshape(M,1)\n",
    "\n",
    "\n",
    "# create X and Y\n",
    "X = np.hstack((X0, X1, X2, X3, X4, X5, X6, X7, X8, X9, X10, X11))\n",
    "Y = price"
   ]
  },
  {
   "cell_type": "code",
   "execution_count": 505,
   "id": "0adc7f12",
   "metadata": {},
   "outputs": [],
   "source": [
    "theta = np.zeros(12)\n",
    "iterations = 1500;\n",
    "alpha = 0.0000000001;\n",
    "theta, cost_history_test = gradient_descent(X, Y, theta, alpha, iterations)"
   ]
  },
  {
   "cell_type": "code",
   "execution_count": 506,
   "id": "f5baa848",
   "metadata": {},
   "outputs": [],
   "source": [
    "# Test set\n",
    "# set all variable arrays\n",
    "price = df_test.values[:, 0]\n",
    "area = df_test.values[:, 1]\n",
    "bedrooms = df_test.values[:, 2]\n",
    "bathrooms = df_test.values[:, 3]\n",
    "stories = df_test.values[:, 4]\n",
    "mainroad = df_test.values[:, 5]\n",
    "guestroom = df_test.values[:, 6]\n",
    "basement = df_test.values[:, 7]\n",
    "hotwaterheating = df_test.values[:, 8]\n",
    "airconditioning = df_test.values[:, 9]\n",
    "parking = df_test.values[:, 10]\n",
    "prefarea = df_test.values[:, 11]\n",
    "\n",
    "M = len(df_test)\n",
    "\n",
    "X0 = np.ones((M,1))\n",
    "X1 = area.reshape(M,1)\n",
    "X2 = bedrooms.reshape(M,1)\n",
    "X3 = bathrooms.reshape(M,1)\n",
    "X4 = stories.reshape(M,1)\n",
    "X5 = mainroad.reshape(M,1)\n",
    "X6 = guestroom.reshape(M,1)\n",
    "X7 = basement.reshape(M,1)\n",
    "X8 = hotwaterheating.reshape(M,1)\n",
    "X9 = airconditioning.reshape(M,1)\n",
    "X10 = parking.reshape(M,1)\n",
    "X11 = prefarea.reshape(M,1)\n",
    "\n",
    "\n",
    "# create X and Y\n",
    "X = np.hstack((X0, X1, X2, X3, X4, X5, X6, X7, X8, X9, X10, X11))\n",
    "Y = price"
   ]
  },
  {
   "cell_type": "code",
   "execution_count": 507,
   "id": "d2665608",
   "metadata": {},
   "outputs": [],
   "source": [
    "theta = np.zeros(12)\n",
    "iterations = 1500;\n",
    "alpha = 0.0000000001;\n",
    "\n",
    "theta, cost_history_test = gradient_descent(X, Y, theta, alpha, iterations)"
   ]
  },
  {
   "cell_type": "code",
   "execution_count": 508,
   "id": "cb543ce2",
   "metadata": {},
   "outputs": [
    {
     "name": "stdout",
     "output_type": "stream",
     "text": [
      "1705620317417.9792\n",
      "1540557194973.1301\n"
     ]
    },
    {
     "data": {
      "image/png": "[encoded data removed]",
      "text/plain": [
       "<Figure size 720x432 with 1 Axes>"
      ]
     },
     "metadata": {
      "needs_background": "light"
     },
     "output_type": "display_data"
    }
   ],
   "source": [
    "plt.plot(range(1, iterations + 1),cost_history_train, color='blue', label = \"Training Cost\")\n",
    "plt.plot(range(1, iterations + 1),cost_history_test, color='red', label = \"Evaluation Cost\")\n",
    "plt.rcParams[\"figure.figsize\"] = (10,6)\n",
    "plt.grid()\n",
    "plt.legend()\n",
    "plt.xlabel('Number of iterations')\n",
    "plt.ylabel('Cost (J)')\n",
    "plt.title('Cost for X')\n",
    "print(cost_history_train[-1])\n",
    "print(cost_history_test[-1])"
   ]
  },
  {
   "cell_type": "code",
   "execution_count": 509,
   "id": "f5271e99",
   "metadata": {},
   "outputs": [],
   "source": [
    "#Problem 2A  // Input Normalization"
   ]
  },
  {
   "cell_type": "code",
   "execution_count": 510,
   "id": "b606dfe6",
   "metadata": {},
   "outputs": [],
   "source": [
    "import warnings\n",
    "warnings.filterwarnings('ignore')\n",
    "\n",
    "from sklearn.preprocessing import MinMaxScaler, StandardScaler\n",
    "\n",
    "normalScaler = MinMaxScaler()\n",
    "standardScaler = StandardScaler()"
   ]
  },
  {
   "cell_type": "code",
   "execution_count": 511,
   "id": "de0db622",
   "metadata": {},
   "outputs": [],
   "source": [
    "np.random.seed(0)\n",
    "df_NormTrain, df_NormTest = train_test_split(housing, train_size = 0.8, test_size = 0.2)\n",
    "df_NormTest.shape\n",
    "\n",
    "num_vars = ['price', 'area', 'bedrooms', 'bathrooms', 'stories', 'mainroad', 'guestroom', 'basement', 'hotwaterheating', 'airconditioning', 'parking', 'prefarea']\n",
    "df_NormTrain[num_vars] = normalScaler.fit_transform(df_NormTrain[num_vars])\n",
    "df_NormTest[num_vars] = normalScaler.fit_transform(df_NormTest[num_vars])\n",
    "\n",
    "# training set\n",
    "price = df_NormTrain.values[:, 0]\n",
    "area = df_NormTrain.values[:, 1]\n",
    "bedrooms = df_NormTrain.values[:, 2]\n",
    "bathrooms = df_NormTrain.values[:, 3]\n",
    "stories = df_NormTrain.values[:, 4]\n",
    "parking = df_NormTrain.values[:, 10]\n",
    "\n",
    "M = len(df_NormTrain)\n",
    "\n",
    "X0 = np.ones((M,1))\n",
    "X1 = area.reshape(M,1)\n",
    "X2 = bedrooms.reshape(M,1)\n",
    "X3 = bathrooms.reshape(M,1)\n",
    "X4 = stories.reshape(M,1)\n",
    "X5 = parking.reshape(M,1)\n",
    "\n",
    "# create X and Y\n",
    "X = np.hstack((X0, X1, X2, X3, X4, X5))\n",
    "Y = price"
   ]
  },
  {
   "cell_type": "code",
   "execution_count": 512,
   "id": "6fb03cad",
   "metadata": {},
   "outputs": [],
   "source": [
    "theta = np.zeros(6)\n",
    "iterations = 1500;\n",
    "alpha = 0.01;\n",
    "\n",
    "theta, cost_history_NormTrain = gradient_descent(X, Y, theta, alpha, iterations)"
   ]
  },
  {
   "cell_type": "code",
   "execution_count": 513,
   "id": "41fd705a",
   "metadata": {},
   "outputs": [],
   "source": [
    "# Test set\n",
    "price = df_NormTest.values[:, 0]\n",
    "area = df_NormTest.values[:, 1]\n",
    "bedrooms = df_NormTest.values[:, 2]\n",
    "bathrooms = df_NormTest.values[:, 3]\n",
    "stories = df_NormTest.values[:, 4]\n",
    "parking = df_NormTest.values[:, 10]\n",
    "\n",
    "M = len(df_NormTest)\n",
    "\n",
    "X0 = np.ones((M,1))\n",
    "X1 = area.reshape(M,1)\n",
    "X2 = bedrooms.reshape(M,1)\n",
    "X3 = bathrooms.reshape(M,1)\n",
    "X4 = stories.reshape(M,1)\n",
    "X5 = parking.reshape(M,1)\n",
    "\n",
    "# create X and Y\n",
    "X = np.hstack((X0, X1, X2, X3, X4, X5))\n",
    "Y = price"
   ]
  },
  {
   "cell_type": "code",
   "execution_count": 514,
   "id": "65c82bf9",
   "metadata": {},
   "outputs": [],
   "source": [
    "theta = np.zeros(6)\n",
    "iterations = 1500;\n",
    "alpha = 0.01;\n",
    "\n",
    "\n",
    "theta, cost_history_NormTest = gradient_descent(X, Y, theta, alpha, iterations)"
   ]
  },
  {
   "cell_type": "code",
   "execution_count": 515,
   "id": "9692e10a",
   "metadata": {},
   "outputs": [
    {
     "name": "stdout",
     "output_type": "stream",
     "text": [
      "0.007085439749491333\n",
      "0.005671407495218865\n"
     ]
    },
    {
     "data": {
      "image/png": "[encoded data removed]",
      "text/plain": [
       "<Figure size 720x432 with 1 Axes>"
      ]
     },
     "metadata": {
      "needs_background": "light"
     },
     "output_type": "display_data"
    }
   ],
   "source": [
    "plt.plot(range(1, iterations + 1),cost_history_NormTrain, color='blue', label = \"Training Cost\")\n",
    "plt.plot(range(1, iterations + 1),cost_history_NormTest, color='red', label = \"Evaluation Cost\")\n",
    "plt.rcParams[\"figure.figsize\"] = (10,6)\n",
    "plt.grid()\n",
    "plt.legend()\n",
    "plt.xlabel('Number of iterations')\n",
    "plt.ylabel('Cost (J)')\n",
    "plt.title('Cost for X with Normalized Input')\n",
    "print(cost_history_NormTrain[-1])\n",
    "print(cost_history_NormTest[-1])"
   ]
  },
  {
   "cell_type": "code",
   "execution_count": 516,
   "id": "90278d36",
   "metadata": {},
   "outputs": [],
   "source": [
    "#Standarization"
   ]
  },
  {
   "cell_type": "code",
   "execution_count": 517,
   "id": "9c3374c3",
   "metadata": {},
   "outputs": [],
   "source": [
    "np.random.seed(0)\n",
    "df_StandardTrain, df_StandardTest = train_test_split(housing, train_size = 0.8, test_size = 0.2)\n",
    "df_StandardTest.shape\n",
    "\n",
    "num_vars = ['price', 'area', 'bedrooms', 'bathrooms', 'stories', 'mainroad', 'guestroom', 'basement', 'hotwaterheating', 'airconditioning', 'parking', 'prefarea']\n",
    "df_StandardTrain[num_vars] = standardScaler.fit_transform(df_StandardTrain[num_vars])\n",
    "df_StandardTest[num_vars] = standardScaler.fit_transform(df_StandardTest[num_vars])\n",
    "\n",
    "# training set\n",
    "price = df_StandardTrain.values[:, 0]\n",
    "area = df_StandardTrain.values[:, 1]\n",
    "bedrooms = df_StandardTrain.values[:, 2]\n",
    "bathrooms = df_StandardTrain.values[:, 3]\n",
    "stories = df_StandardTrain.values[:, 4]\n",
    "parking = df_StandardTrain.values[:, 10]\n",
    "\n",
    "M = len(df_StandardTrain)\n",
    "\n",
    "X0 = np.ones((M,1))\n",
    "X1 = area.reshape(M,1)\n",
    "X2 = bedrooms.reshape(M,1)\n",
    "X3 = bathrooms.reshape(M,1)\n",
    "X4 = stories.reshape(M,1)\n",
    "X5 = parking.reshape(M,1)\n",
    "\n",
    "# create X and Y\n",
    "X = np.hstack((X0, X1, X2, X3, X4, X5))\n",
    "Y = price"
   ]
  },
  {
   "cell_type": "code",
   "execution_count": 518,
   "id": "1bb4d4b4",
   "metadata": {},
   "outputs": [],
   "source": [
    "theta = np.zeros(6)\n",
    "iterations = 1500;\n",
    "alpha = 0.01;\n",
    "\n",
    "theta, cost_history_StandardTrain = gradient_descent(X, Y, theta, alpha, iterations)"
   ]
  },
  {
   "cell_type": "code",
   "execution_count": 519,
   "id": "04624d64",
   "metadata": {},
   "outputs": [],
   "source": [
    "# Test set\n",
    "price = df_StandardTest.values[:, 0]\n",
    "area = df_StandardTest.values[:, 1]\n",
    "bedrooms = df_StandardTest.values[:, 2]\n",
    "bathrooms = df_StandardTest.values[:, 3]\n",
    "stories = df_StandardTest.values[:, 4]\n",
    "parking = df_StandardTest.values[:, 10]\n",
    "\n",
    "M = len(df_StandardTest)\n",
    "\n",
    "X0 = np.ones((M,1))\n",
    "X1 = area.reshape(M,1)\n",
    "X2 = bedrooms.reshape(M,1)\n",
    "X3 = bathrooms.reshape(M,1)\n",
    "X4 = stories.reshape(M,1)\n",
    "X5 = parking.reshape(M,1)\n",
    "\n",
    "# create X and Y\n",
    "X = np.hstack((X0, X1, X2, X3, X4, X5))\n",
    "Y = price\n",
    "\n"
   ]
  },
  {
   "cell_type": "code",
   "execution_count": 520,
   "id": "11166244",
   "metadata": {},
   "outputs": [],
   "source": [
    "theta = np.zeros(6)\n",
    "iterations = 1500;\n",
    "alpha = 0.01;\n",
    "\n",
    "\n",
    "theta, cost_history_StandardTest = gradient_descent(X, Y, theta, alpha, iterations)"
   ]
  },
  {
   "cell_type": "code",
   "execution_count": 521,
   "id": "89e6385a",
   "metadata": {},
   "outputs": [
    {
     "name": "stdout",
     "output_type": "stream",
     "text": [
      "0.22309632379615973\n",
      "0.18509374897517503\n"
     ]
    },
    {
     "data": {
      "image/png": "[encoded data removed]",
      "text/plain": [
       "<Figure size 720x432 with 1 Axes>"
      ]
     },
     "metadata": {
      "needs_background": "light"
     },
     "output_type": "display_data"
    }
   ],
   "source": [
    "plt.plot(range(1, iterations + 1),cost_history_StandardTrain, color='blue', label = \"Training Cost\")\n",
    "plt.plot(range(1, iterations + 1),cost_history_StandardTest, color='red', label = \"Evaluation Cost\")\n",
    "plt.rcParams[\"figure.figsize\"] = (10,6)\n",
    "plt.grid()\n",
    "plt.legend()\n",
    "plt.xlabel('Number of iterations')\n",
    "plt.ylabel('Cost (J)')\n",
    "plt.title('Cost for X with Standardized Input')\n",
    "print(cost_history_StandardTrain[-1])\n",
    "print(cost_history_StandardTest[-1])"
   ]
  },
  {
   "cell_type": "code",
   "execution_count": 522,
   "id": "b0e2c422",
   "metadata": {},
   "outputs": [],
   "source": [
    "#Problem 2B // Normalization"
   ]
  },
  {
   "cell_type": "code",
   "execution_count": 523,
   "id": "94c359cb",
   "metadata": {},
   "outputs": [],
   "source": [
    "price = df_NormTrain.values[:, 0]\n",
    "area = df_NormTrain.values[:, 1]\n",
    "bedrooms = df_NormTrain.values[:, 2]\n",
    "bathrooms = df_NormTrain.values[:, 3]\n",
    "stories = df_NormTrain.values[:, 4]\n",
    "mainroad = df_NormTrain.values[:, 5]\n",
    "guestroom = df_NormTrain.values[:, 6]\n",
    "basement = df_NormTrain.values[:, 7]\n",
    "hotwaterheating = df_NormTrain.values[:, 8]\n",
    "airconditioning = df_NormTrain.values[:, 9]\n",
    "parking = df_NormTrain.values[:, 10]\n",
    "prefarea = df_NormTrain.values[:, 11]\n",
    "\n",
    "M = len(df_NormTrain)\n",
    "\n",
    "X0 = np.ones((M,1))\n",
    "X1 = area.reshape(M,1)\n",
    "X2 = bedrooms.reshape(M,1)\n",
    "X3 = bathrooms.reshape(M,1)\n",
    "X4 = stories.reshape(M,1)\n",
    "X5 = mainroad.reshape(M,1)\n",
    "X6 = guestroom.reshape(M,1)\n",
    "X7 = basement.reshape(M,1)\n",
    "X8 = hotwaterheating.reshape(M,1)\n",
    "X9 = airconditioning.reshape(M,1)\n",
    "X10 = parking.reshape(M,1)\n",
    "X11 = prefarea.reshape(M,1)\n",
    "\n",
    "\n",
    "# create X and Y\n",
    "X = np.hstack((X0, X1, X2, X3, X4, X5, X6, X7, X8, X9, X10, X11))\n",
    "Y = price"
   ]
  },
  {
   "cell_type": "code",
   "execution_count": 524,
   "id": "72de79bc",
   "metadata": {},
   "outputs": [],
   "source": [
    "theta = np.zeros(12)\n",
    "iterations = 1500;\n",
    "alpha = 0.01;\n",
    "\n",
    "\n",
    "#calculated results from the gradient descent\n",
    "theta, cost_history_NormTrain = gradient_descent(X, Y, theta, alpha, iterations)"
   ]
  },
  {
   "cell_type": "code",
   "execution_count": 525,
   "id": "70556c44",
   "metadata": {},
   "outputs": [],
   "source": [
    "price = df_NormTest.values[:, 0]\n",
    "area = df_NormTest.values[:, 1]\n",
    "bedrooms = df_NormTest.values[:, 2]\n",
    "bathrooms = df_NormTest.values[:, 3]\n",
    "stories = df_NormTest.values[:, 4]\n",
    "mainroad = df_NormTest.values[:, 5]\n",
    "guestroom = df_NormTest.values[:, 6]\n",
    "basement = df_NormTest.values[:, 7]\n",
    "hotwaterheating = df_NormTest.values[:, 8]\n",
    "airconditioning = df_NormTest.values[:, 9]\n",
    "parking = df_NormTest.values[:, 10]\n",
    "prefarea = df_NormTest.values[:, 11]\n",
    "\n",
    "M = len(df_NormTest)\n",
    "\n",
    "#reshape arrays\n",
    "X0 = np.ones((M,1))\n",
    "X1 = area.reshape(M,1)\n",
    "X2 = bedrooms.reshape(M,1)\n",
    "X3 = bathrooms.reshape(M,1)\n",
    "X4 = stories.reshape(M,1)\n",
    "X5 = mainroad.reshape(M,1)\n",
    "X6 = guestroom.reshape(M,1)\n",
    "X7 = basement.reshape(M,1)\n",
    "X8 = hotwaterheating.reshape(M,1)\n",
    "X9 = airconditioning.reshape(M,1)\n",
    "X10 = parking.reshape(M,1)\n",
    "X11 = prefarea.reshape(M,1)\n",
    "\n",
    "\n",
    "# create X and Y\n",
    "X = np.hstack((X0, X1, X2, X3, X4, X5, X6, X7, X8, X9, X10, X11))\n",
    "Y = price"
   ]
  },
  {
   "cell_type": "code",
   "execution_count": 526,
   "id": "7bc59635",
   "metadata": {},
   "outputs": [],
   "source": [
    "theta = np.zeros(12)\n",
    "iterations = 1500;\n",
    "alpha = 0.01;\n",
    "\n",
    "\n",
    "#calculated results from the gradient descent\n",
    "theta, cost_history_NormTest = gradient_descent(X, Y, theta, alpha, iterations)"
   ]
  },
  {
   "cell_type": "code",
   "execution_count": 527,
   "id": "c5ef5bdf",
   "metadata": {},
   "outputs": [
    {
     "name": "stdout",
     "output_type": "stream",
     "text": [
      "0.005093220160815316\n",
      "0.004134191719301474\n"
     ]
    },
    {
     "data": {
      "image/png": "[encoded data removed]",
      "text/plain": [
       "<Figure size 720x432 with 1 Axes>"
      ]
     },
     "metadata": {
      "needs_background": "light"
     },
     "output_type": "display_data"
    }
   ],
   "source": [
    "plt.plot(range(1, iterations + 1),cost_history_NormTrain, color='blue', label = \"Training Cost\")\n",
    "plt.plot(range(1, iterations + 1),cost_history_NormTest, color='red', label = \"Evaluation Cost\")\n",
    "plt.rcParams[\"figure.figsize\"] = (10,6)\n",
    "plt.grid()\n",
    "plt.legend()\n",
    "plt.xlabel('Number of iterations')\n",
    "plt.ylabel('Cost (J)')\n",
    "plt.title('Cost for X with Normalized Input')\n",
    "print(cost_history_NormTrain[-1])\n",
    "print(cost_history_NormTest[-1])"
   ]
  },
  {
   "cell_type": "code",
   "execution_count": 528,
   "id": "173a834f",
   "metadata": {},
   "outputs": [],
   "source": [
    "#Standarization"
   ]
  },
  {
   "cell_type": "code",
   "execution_count": 529,
   "id": "7cb2c934",
   "metadata": {},
   "outputs": [],
   "source": [
    "price = df_StandardTrain.values[:, 0]\n",
    "area = df_StandardTrain.values[:, 1]\n",
    "bedrooms = df_StandardTrain.values[:, 2]\n",
    "bathrooms = df_StandardTrain.values[:, 3]\n",
    "stories = df_StandardTrain.values[:, 4]\n",
    "mainroad = df_StandardTrain.values[:, 5]\n",
    "guestroom = df_StandardTrain.values[:, 6]\n",
    "basement = df_StandardTrain.values[:, 7]\n",
    "hotwaterheating = df_StandardTrain.values[:, 8]\n",
    "airconditioning = df_StandardTrain.values[:, 9]\n",
    "parking = df_StandardTrain.values[:, 10]\n",
    "prefarea = df_StandardTrain.values[:, 11]\n",
    "\n",
    "M = len(df_StandardTrain)\n",
    "\n",
    "#reshape arrays\n",
    "X0 = np.ones((M,1))\n",
    "X1 = area.reshape(M,1)\n",
    "X2 = bedrooms.reshape(M,1)\n",
    "X3 = bathrooms.reshape(M,1)\n",
    "X4 = stories.reshape(M,1)\n",
    "X5 = mainroad.reshape(M,1)\n",
    "X6 = guestroom.reshape(M,1)\n",
    "X7 = basement.reshape(M,1)\n",
    "X8 = hotwaterheating.reshape(M,1)\n",
    "X9 = airconditioning.reshape(M,1)\n",
    "X10 = parking.reshape(M,1)\n",
    "X11 = prefarea.reshape(M,1)\n",
    "\n",
    "\n",
    "# create X and Y\n",
    "X = np.hstack((X0, X1, X2, X3, X4, X5, X6, X7, X8, X9, X10, X11))\n",
    "Y = price"
   ]
  },
  {
   "cell_type": "code",
   "execution_count": 530,
   "id": "e791abe7",
   "metadata": {},
   "outputs": [],
   "source": [
    "theta = np.zeros(12)\n",
    "iterations = 1500;\n",
    "alpha = 0.01;\n",
    "\n",
    "\n",
    "#calculated results from the gradient descent\n",
    "theta, cost_history_StandardTrain = gradient_descent(X, Y, theta, alpha, iterations)"
   ]
  },
  {
   "cell_type": "code",
   "execution_count": 531,
   "id": "864bcd05",
   "metadata": {},
   "outputs": [],
   "source": [
    "price = df_StandardTest.values[:, 0]\n",
    "area = df_StandardTest.values[:, 1]\n",
    "bedrooms = df_StandardTest.values[:, 2]\n",
    "bathrooms = df_StandardTest.values[:, 3]\n",
    "stories = df_StandardTest.values[:, 4]\n",
    "mainroad = df_StandardTest.values[:, 5]\n",
    "guestroom = df_StandardTest.values[:, 6]\n",
    "basement = df_StandardTest.values[:, 7]\n",
    "hotwaterheating = df_StandardTest.values[:, 8]\n",
    "airconditioning = df_StandardTest.values[:, 9]\n",
    "parking = df_StandardTest.values[:, 10]\n",
    "prefarea = df_StandardTest.values[:, 11]\n",
    "\n",
    "M = len(df_StandardTest)\n",
    "\n",
    "#reshape arrays\n",
    "X0 = np.ones((M,1))\n",
    "X1 = area.reshape(M,1)\n",
    "X2 = bedrooms.reshape(M,1)\n",
    "X3 = bathrooms.reshape(M,1)\n",
    "X4 = stories.reshape(M,1)\n",
    "X5 = mainroad.reshape(M,1)\n",
    "X6 = guestroom.reshape(M,1)\n",
    "X7 = basement.reshape(M,1)\n",
    "X8 = hotwaterheating.reshape(M,1)\n",
    "X9 = airconditioning.reshape(M,1)\n",
    "X10 = parking.reshape(M,1)\n",
    "X11 = prefarea.reshape(M,1)\n",
    "\n",
    "\n",
    "# create X and Y\n",
    "X = np.hstack((X0, X1, X2, X3, X4, X5, X6, X7, X8, X9, X10, X11))\n",
    "Y = price"
   ]
  },
  {
   "cell_type": "code",
   "execution_count": 532,
   "id": "44a4157b",
   "metadata": {},
   "outputs": [],
   "source": [
    "theta = np.zeros(12)\n",
    "iterations = 1500;\n",
    "alpha = 0.01;\n",
    "\n",
    "\n",
    "#calculated results from the gradient descent\n",
    "theta, cost_history_StandardTest = gradient_descent(X, Y, theta, alpha, iterations)"
   ]
  },
  {
   "cell_type": "code",
   "execution_count": 533,
   "id": "0511e77b",
   "metadata": {
    "scrolled": false
   },
   "outputs": [
    {
     "name": "stdout",
     "output_type": "stream",
     "text": [
      "0.16415713474013202\n",
      "0.13271415048756507\n"
     ]
    },
    {
     "data": {
      "image/png": "[encoded data removed]",
      "text/plain": [
       "<Figure size 720x432 with 1 Axes>"
      ]
     },
     "metadata": {
      "needs_background": "light"
     },
     "output_type": "display_data"
    }
   ],
   "source": [
    "plt.plot(range(1, iterations + 1),cost_history_StandardTrain, color='blue', label = \"Training Cost\")\n",
    "plt.plot(range(1, iterations + 1),cost_history_StandardTest, color='red', label = \"Evaluation Cost\")\n",
    "plt.rcParams[\"figure.figsize\"] = (10,6)\n",
    "plt.grid()\n",
    "plt.legend()\n",
    "plt.xlabel('Number of iterations')\n",
    "plt.ylabel('Cost (J)')\n",
    "plt.title('Cost for X with Standardized Input')\n",
    "print(cost_history_StandardTrain[-1])\n",
    "print(cost_history_StandardTest[-1])"
   ]
  }
 ],
 "metadata": {
  "kernelspec": {
   "display_name": "Python 3 (ipykernel)",
   "language": "python",
   "name": "python3"
  },
  "language_info": {
   "codemirror_mode": {
    "name": "ipython",
    "version": 3
   },
   "file_extension": ".py",
   "mimetype": "text/x-python",
   "name": "python",
   "nbconvert_exporter": "python",
   "pygments_lexer": "ipython3",
   "version": "3.9.12"
  }
 },
 "nbformat": 4,
 "nbformat_minor": 5
}
