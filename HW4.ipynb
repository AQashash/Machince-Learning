{
 "cells": [
  {
   "cell_type": "code",
   "execution_count": 1,
   "id": "843cf738",
   "metadata": {},
   "outputs": [],
   "source": [
    "import numpy as np\n",
    "import matplotlib.pyplot as plt\n",
    "import pandas as pd\n",
    "\n",
    "from sklearn.model_selection import train_test_split\n",
    "from sklearn.decomposition import PCA\n",
    "from sklearn.linear_model import LogisticRegression\n",
    "from sklearn.model_selection import cross_val_score\n",
    "\n",
    "import seaborn as sns\n",
    "\n",
    "from sklearn.datasets import load_breast_cancer\n",
    "from sklearn import metrics\n",
    "\n",
    "from sklearn.metrics import confusion_matrix\n",
    "from sklearn.preprocessing import StandardScaler\n",
    "\n",
    "from sklearn import svm\n",
    "\n",
    "import warnings\n",
    "warnings.filterwarnings('ignore')"
   ]
  },
  {
   "cell_type": "code",
   "execution_count": 2,
   "id": "f13d769c",
   "metadata": {},
   "outputs": [],
   "source": [
    "# Load Cancer Data\n",
    "breast_cancer = load_breast_cancer()\n",
    "x = breast_cancer.data\n",
    "y = breast_cancer.target"
   ]
  },
  {
   "cell_type": "code",
   "execution_count": 3,
   "id": "f6683b07",
   "metadata": {},
   "outputs": [
    {
     "data": {
      "text/html": [
       "<div>\n",
       "<style scoped>\n",
       "    .dataframe tbody tr th:only-of-type {\n",
       "        vertical-align: middle;\n",
       "    }\n",
       "\n",
       "    .dataframe tbody tr th {\n",
       "        vertical-align: top;\n",
       "    }\n",
       "\n",
       "    .dataframe thead th {\n",
       "        text-align: right;\n",
       "    }\n",
       "</style>\n",
       "<table border=\"1\" class=\"dataframe\">\n",
       "  <thead>\n",
       "    <tr style=\"text-align: right;\">\n",
       "      <th></th>\n",
       "      <th>0</th>\n",
       "      <th>1</th>\n",
       "      <th>2</th>\n",
       "      <th>3</th>\n",
       "      <th>4</th>\n",
       "      <th>5</th>\n",
       "      <th>6</th>\n",
       "      <th>7</th>\n",
       "      <th>8</th>\n",
       "      <th>9</th>\n",
       "      <th>...</th>\n",
       "      <th>20</th>\n",
       "      <th>21</th>\n",
       "      <th>22</th>\n",
       "      <th>23</th>\n",
       "      <th>24</th>\n",
       "      <th>25</th>\n",
       "      <th>26</th>\n",
       "      <th>27</th>\n",
       "      <th>28</th>\n",
       "      <th>29</th>\n",
       "    </tr>\n",
       "  </thead>\n",
       "  <tbody>\n",
       "    <tr>\n",
       "      <th>0</th>\n",
       "      <td>17.99</td>\n",
       "      <td>10.38</td>\n",
       "      <td>122.80</td>\n",
       "      <td>1001.0</td>\n",
       "      <td>0.11840</td>\n",
       "      <td>0.27760</td>\n",
       "      <td>0.3001</td>\n",
       "      <td>0.14710</td>\n",
       "      <td>0.2419</td>\n",
       "      <td>0.07871</td>\n",
       "      <td>...</td>\n",
       "      <td>25.38</td>\n",
       "      <td>17.33</td>\n",
       "      <td>184.60</td>\n",
       "      <td>2019.0</td>\n",
       "      <td>0.1622</td>\n",
       "      <td>0.6656</td>\n",
       "      <td>0.7119</td>\n",
       "      <td>0.2654</td>\n",
       "      <td>0.4601</td>\n",
       "      <td>0.11890</td>\n",
       "    </tr>\n",
       "    <tr>\n",
       "      <th>1</th>\n",
       "      <td>20.57</td>\n",
       "      <td>17.77</td>\n",
       "      <td>132.90</td>\n",
       "      <td>1326.0</td>\n",
       "      <td>0.08474</td>\n",
       "      <td>0.07864</td>\n",
       "      <td>0.0869</td>\n",
       "      <td>0.07017</td>\n",
       "      <td>0.1812</td>\n",
       "      <td>0.05667</td>\n",
       "      <td>...</td>\n",
       "      <td>24.99</td>\n",
       "      <td>23.41</td>\n",
       "      <td>158.80</td>\n",
       "      <td>1956.0</td>\n",
       "      <td>0.1238</td>\n",
       "      <td>0.1866</td>\n",
       "      <td>0.2416</td>\n",
       "      <td>0.1860</td>\n",
       "      <td>0.2750</td>\n",
       "      <td>0.08902</td>\n",
       "    </tr>\n",
       "    <tr>\n",
       "      <th>2</th>\n",
       "      <td>19.69</td>\n",
       "      <td>21.25</td>\n",
       "      <td>130.00</td>\n",
       "      <td>1203.0</td>\n",
       "      <td>0.10960</td>\n",
       "      <td>0.15990</td>\n",
       "      <td>0.1974</td>\n",
       "      <td>0.12790</td>\n",
       "      <td>0.2069</td>\n",
       "      <td>0.05999</td>\n",
       "      <td>...</td>\n",
       "      <td>23.57</td>\n",
       "      <td>25.53</td>\n",
       "      <td>152.50</td>\n",
       "      <td>1709.0</td>\n",
       "      <td>0.1444</td>\n",
       "      <td>0.4245</td>\n",
       "      <td>0.4504</td>\n",
       "      <td>0.2430</td>\n",
       "      <td>0.3613</td>\n",
       "      <td>0.08758</td>\n",
       "    </tr>\n",
       "    <tr>\n",
       "      <th>3</th>\n",
       "      <td>11.42</td>\n",
       "      <td>20.38</td>\n",
       "      <td>77.58</td>\n",
       "      <td>386.1</td>\n",
       "      <td>0.14250</td>\n",
       "      <td>0.28390</td>\n",
       "      <td>0.2414</td>\n",
       "      <td>0.10520</td>\n",
       "      <td>0.2597</td>\n",
       "      <td>0.09744</td>\n",
       "      <td>...</td>\n",
       "      <td>14.91</td>\n",
       "      <td>26.50</td>\n",
       "      <td>98.87</td>\n",
       "      <td>567.7</td>\n",
       "      <td>0.2098</td>\n",
       "      <td>0.8663</td>\n",
       "      <td>0.6869</td>\n",
       "      <td>0.2575</td>\n",
       "      <td>0.6638</td>\n",
       "      <td>0.17300</td>\n",
       "    </tr>\n",
       "    <tr>\n",
       "      <th>4</th>\n",
       "      <td>20.29</td>\n",
       "      <td>14.34</td>\n",
       "      <td>135.10</td>\n",
       "      <td>1297.0</td>\n",
       "      <td>0.10030</td>\n",
       "      <td>0.13280</td>\n",
       "      <td>0.1980</td>\n",
       "      <td>0.10430</td>\n",
       "      <td>0.1809</td>\n",
       "      <td>0.05883</td>\n",
       "      <td>...</td>\n",
       "      <td>22.54</td>\n",
       "      <td>16.67</td>\n",
       "      <td>152.20</td>\n",
       "      <td>1575.0</td>\n",
       "      <td>0.1374</td>\n",
       "      <td>0.2050</td>\n",
       "      <td>0.4000</td>\n",
       "      <td>0.1625</td>\n",
       "      <td>0.2364</td>\n",
       "      <td>0.07678</td>\n",
       "    </tr>\n",
       "  </tbody>\n",
       "</table>\n",
       "<p>5 rows × 30 columns</p>\n",
       "</div>"
      ],
      "text/plain": [
       "      0      1       2       3        4        5       6        7       8   \\\n",
       "0  17.99  10.38  122.80  1001.0  0.11840  0.27760  0.3001  0.14710  0.2419   \n",
       "1  20.57  17.77  132.90  1326.0  0.08474  0.07864  0.0869  0.07017  0.1812   \n",
       "2  19.69  21.25  130.00  1203.0  0.10960  0.15990  0.1974  0.12790  0.2069   \n",
       "3  11.42  20.38   77.58   386.1  0.14250  0.28390  0.2414  0.10520  0.2597   \n",
       "4  20.29  14.34  135.10  1297.0  0.10030  0.13280  0.1980  0.10430  0.1809   \n",
       "\n",
       "        9   ...     20     21      22      23      24      25      26      27  \\\n",
       "0  0.07871  ...  25.38  17.33  184.60  2019.0  0.1622  0.6656  0.7119  0.2654   \n",
       "1  0.05667  ...  24.99  23.41  158.80  1956.0  0.1238  0.1866  0.2416  0.1860   \n",
       "2  0.05999  ...  23.57  25.53  152.50  1709.0  0.1444  0.4245  0.4504  0.2430   \n",
       "3  0.09744  ...  14.91  26.50   98.87   567.7  0.2098  0.8663  0.6869  0.2575   \n",
       "4  0.05883  ...  22.54  16.67  152.20  1575.0  0.1374  0.2050  0.4000  0.1625   \n",
       "\n",
       "       28       29  \n",
       "0  0.4601  0.11890  \n",
       "1  0.2750  0.08902  \n",
       "2  0.3613  0.08758  \n",
       "3  0.6638  0.17300  \n",
       "4  0.2364  0.07678  \n",
       "\n",
       "[5 rows x 30 columns]"
      ]
     },
     "execution_count": 3,
     "metadata": {},
     "output_type": "execute_result"
    }
   ],
   "source": [
    "x = pd.DataFrame(x)\n",
    "x.head()"
   ]
  },
  {
   "cell_type": "code",
   "execution_count": 4,
   "id": "68cf97e7",
   "metadata": {
    "scrolled": true
   },
   "outputs": [
    {
     "data": {
      "text/html": [
       "<div>\n",
       "<style scoped>\n",
       "    .dataframe tbody tr th:only-of-type {\n",
       "        vertical-align: middle;\n",
       "    }\n",
       "\n",
       "    .dataframe tbody tr th {\n",
       "        vertical-align: top;\n",
       "    }\n",
       "\n",
       "    .dataframe thead th {\n",
       "        text-align: right;\n",
       "    }\n",
       "</style>\n",
       "<table border=\"1\" class=\"dataframe\">\n",
       "  <thead>\n",
       "    <tr style=\"text-align: right;\">\n",
       "      <th></th>\n",
       "      <th>0</th>\n",
       "    </tr>\n",
       "  </thead>\n",
       "  <tbody>\n",
       "    <tr>\n",
       "      <th>0</th>\n",
       "      <td>0</td>\n",
       "    </tr>\n",
       "    <tr>\n",
       "      <th>1</th>\n",
       "      <td>0</td>\n",
       "    </tr>\n",
       "    <tr>\n",
       "      <th>2</th>\n",
       "      <td>0</td>\n",
       "    </tr>\n",
       "    <tr>\n",
       "      <th>3</th>\n",
       "      <td>0</td>\n",
       "    </tr>\n",
       "    <tr>\n",
       "      <th>4</th>\n",
       "      <td>0</td>\n",
       "    </tr>\n",
       "  </tbody>\n",
       "</table>\n",
       "</div>"
      ],
      "text/plain": [
       "   0\n",
       "0  0\n",
       "1  0\n",
       "2  0\n",
       "3  0\n",
       "4  0"
      ]
     },
     "execution_count": 4,
     "metadata": {},
     "output_type": "execute_result"
    }
   ],
   "source": [
    "y = pd.DataFrame(y)\n",
    "y.head()"
   ]
  },
  {
   "cell_type": "code",
   "execution_count": 5,
   "id": "a09687ed",
   "metadata": {
    "scrolled": true
   },
   "outputs": [
    {
     "name": "stdout",
     "output_type": "stream",
     "text": [
      "['malignant' 'benign']\n",
      "['mean radius' 'mean texture' 'mean perimeter' 'mean area'\n",
      " 'mean smoothness' 'mean compactness' 'mean concavity'\n",
      " 'mean concave points' 'mean symmetry' 'mean fractal dimension'\n",
      " 'radius error' 'texture error' 'perimeter error' 'area error'\n",
      " 'smoothness error' 'compactness error' 'concavity error'\n",
      " 'concave points error' 'symmetry error' 'fractal dimension error'\n",
      " 'worst radius' 'worst texture' 'worst perimeter' 'worst area'\n",
      " 'worst smoothness' 'worst compactness' 'worst concavity'\n",
      " 'worst concave points' 'worst symmetry' 'worst fractal dimension']\n"
     ]
    }
   ],
   "source": [
    "data=load_breast_cancer()\n",
    "data.keys()\n",
    " \n",
    "# Check the output classes\n",
    "print(data['target_names'])\n",
    " \n",
    "# Check the input attributes\n",
    "print(data['feature_names'])"
   ]
  },
  {
   "cell_type": "code",
   "execution_count": 6,
   "id": "afca46b2",
   "metadata": {},
   "outputs": [
    {
     "data": {
      "text/plain": [
       "(569, 30)"
      ]
     },
     "execution_count": 6,
     "metadata": {},
     "output_type": "execute_result"
    }
   ],
   "source": [
    "x.shape"
   ]
  },
  {
   "cell_type": "code",
   "execution_count": 7,
   "id": "bb19d217",
   "metadata": {},
   "outputs": [
    {
     "data": {
      "text/plain": [
       "(569, 1)"
      ]
     },
     "execution_count": 7,
     "metadata": {},
     "output_type": "execute_result"
    }
   ],
   "source": [
    "y.shape"
   ]
  },
  {
   "cell_type": "code",
   "execution_count": 9,
   "id": "ed7f96f2",
   "metadata": {},
   "outputs": [],
   "source": [
    "# construct a dataframe using pandas\n",
    "df1=pd.DataFrame(data['data'],columns=data['feature_names'])\n",
    " \n",
    "# Scale data before applying PCA\n",
    "scaling=StandardScaler()\n",
    " \n",
    "# Use fit and transform method\n",
    "scaling.fit(df1)\n",
    "Scaled_data=scaling.transform(df1)\n",
    " \n",
    "# Set the n_components=3\n",
    "principal=PCA(n_components=3)\n",
    "principal.fit(Scaled_data)\n",
    "x=principal.transform(Scaled_data)"
   ]
  },
  {
   "cell_type": "code",
   "execution_count": 17,
   "id": "cbf6f0f4",
   "metadata": {},
   "outputs": [
    {
     "name": "stdout",
     "output_type": "stream",
     "text": [
      "K: 30 : 0.9649122807017544\n"
     ]
    }
   ],
   "source": [
    "from sklearn.decomposition import PCA\n",
    "from sklearn import svm\n",
    "from sklearn.svm import SVC\n",
    "\n",
    "accuracyH = np.zeros(31)\n",
    "precisionH = np.zeros(31)\n",
    "recallH = np.zeros(31)\n",
    "\n",
    "for i in range(1,31):\n",
    "    \n",
    "    principal=PCA(n_components=i)\n",
    "    X = principal.fit_transform(Scaled_data)    \n",
    "    \n",
    "    np.random.seed(0) \n",
    "    x_train, x_test, y_train, y_test = train_test_split( X, y, test_size=0.2, random_state = 0)\n",
    "    \n",
    "    classifier = SVC(kernel='linear', C=50) #create SVC\n",
    "    classifier.fit(x_train, y_train)\n",
    "    \n",
    "    y_pred = classifier.predict(x_test) #predicting the result based of the classifier\n",
    "    \n",
    "    accuracyH[i] = metrics.accuracy_score(y_test, y_pred)\n",
    "    precisionH[i] = metrics.precision_score(y_test, y_pred)\n",
    "    recallH[i] = metrics.recall_score(y_test, y_pred)\n",
    "    \n",
    "print('K:', i,':', accuracyH[i])"
   ]
  },
  {
   "cell_type": "code",
   "execution_count": 45,
   "id": "2e63d044",
   "metadata": {},
   "outputs": [
    {
     "data": {
      "text/plain": [
       "<matplotlib.legend.Legend at 0x223e6aafd90>"
      ]
     },
     "execution_count": 45,
     "metadata": {},
     "output_type": "execute_result"
    },
    {
     "data": {
      "image/png": "[encoded data removed]",
      "text/plain": [
       "<Figure size 720x432 with 1 Axes>"
      ]
     },
     "metadata": {
      "needs_background": "light"
     },
     "output_type": "display_data"
    }
   ],
   "source": [
    "#plotting\n",
    "plt.plot(range(0, 31), accuracyH, color = 'blue', label = 'Accuracy')\n",
    "plt.plot(range(0, 31), precisionH, color = 'red', label = 'Precision')\n",
    "plt.plot(range(0, 31), recallH, color = 'green', label = 'Recall')\n",
    "plt.rcParams[\"figure.figsize\"] = (10,6) \n",
    "plt.grid() \n",
    "plt.xlabel('K Principal Components') \n",
    "plt.ylabel('Value') \n",
    "plt.title('Accuracy, Precision and Recall vs. K Principal Components') \n",
    "plt.legend()"
   ]
  },
  {
   "cell_type": "code",
   "execution_count": null,
   "id": "51f8e9ed",
   "metadata": {},
   "outputs": [],
   "source": [
    "####################################################################\n",
    "#Different types of SVC"
   ]
  },
  {
   "cell_type": "code",
   "execution_count": 51,
   "id": "4552f4f7",
   "metadata": {},
   "outputs": [
    {
     "name": "stdout",
     "output_type": "stream",
     "text": [
      "Poly Accuracy: 0.9824561403508771\n",
      "Poly Accuracy: 0.9710144927536232\n",
      "Poly Accuracy: 1.0\n"
     ]
    },
    {
     "data": {
      "image/png": "[encoded data removed]",
      "text/plain": [
       "<Figure size 720x432 with 1 Axes>"
      ]
     },
     "metadata": {
      "needs_background": "light"
     },
     "output_type": "display_data"
    }
   ],
   "source": [
    "#Polynomial Kernel Implementation\n",
    "\n",
    "np.random.seed(0) \n",
    "x_train, x_test, y_train, y_test = train_test_split( X, y, test_size=0.2, random_state = 0)\n",
    "classifier = SVC(kernel='poly', C=50) #create SVC\n",
    "classifier.fit(x_train, y_train)\n",
    "    \n",
    "y_pred = classifier.predict(x_test)\n",
    "    \n",
    "accuracy = metrics.accuracy_score(y_test, y_pred)\n",
    "precision = metrics.precision_score(y_test, y_pred)\n",
    "recall = metrics.recall_score(y_test, y_pred)\n",
    "\n",
    "print('Poly Accuracy:', accuracy)\n",
    "print('Poly Accuracy:', precision)\n",
    "print('Poly Accuracy:', recall)\n",
    "\n",
    "#plotting\n",
    "plt.plot(accuracy, color = 'blue', label = 'Accuracy')\n",
    "plt.plot(precision, color = 'red', label = 'Precision')\n",
    "plt.plot(recall, color = 'green', label = 'Recall')\n",
    "plt.rcParams[\"figure.figsize\"] = (10,6) \n",
    "plt.grid() "
   ]
  },
  {
   "cell_type": "code",
   "execution_count": 52,
   "id": "39a88de7",
   "metadata": {},
   "outputs": [
    {
     "name": "stdout",
     "output_type": "stream",
     "text": [
      "RBF Accuracy: 0.956140350877193\n",
      "RBF Accuracy: 1.0\n",
      "RBF Accuracy: 0.9253731343283582\n"
     ]
    },
    {
     "data": {
      "image/png": "[encoded data removed]",
      "text/plain": [
       "<Figure size 720x432 with 1 Axes>"
      ]
     },
     "metadata": {
      "needs_background": "light"
     },
     "output_type": "display_data"
    }
   ],
   "source": [
    "#Gaussian Radial Basis (RBF) Kernel Implementation \n",
    "\n",
    "np.random.seed(0) \n",
    "x_train, x_test, y_train, y_test = train_test_split( X, y, test_size=0.2, random_state = 0)\n",
    "classifier = SVC(kernel='rbf', C=50) #create SVC\n",
    "classifier.fit(x_train, y_train)\n",
    "    \n",
    "y_pred = classifier.predict(x_test)\n",
    "    \n",
    "accuracy = metrics.accuracy_score(y_test, y_pred)\n",
    "precision = metrics.precision_score(y_test, y_pred)\n",
    "recall = metrics.recall_score(y_test, y_pred)\n",
    "\n",
    "print('RBF Accuracy:', accuracy)\n",
    "print('RBF Accuracy:', precision)\n",
    "print('RBF Accuracy:', recall)\n",
    "\n",
    "#plotting\n",
    "plt.plot(accuracy, color = 'blue', label = 'Accuracy')\n",
    "plt.plot(precision, color = 'red', label = 'Precision')\n",
    "plt.plot(recall, color = 'green', label = 'Recall')\n",
    "plt.rcParams[\"figure.figsize\"] = (10,6) \n",
    "plt.grid() "
   ]
  },
  {
   "cell_type": "code",
   "execution_count": 69,
   "id": "322dbd36",
   "metadata": {},
   "outputs": [
    {
     "name": "stdout",
     "output_type": "stream",
     "text": [
      "Sigmoid Accuracy: 0.8771929824561403\n",
      "Sigmoid Precision: 0.9076923076923077\n",
      "Sigmoid Recall: 0.8805970149253731\n"
     ]
    },
    {
     "data": {
      "image/png": "[encoded data removed]",
      "text/plain": [
       "<Figure size 720x432 with 1 Axes>"
      ]
     },
     "metadata": {
      "needs_background": "light"
     },
     "output_type": "display_data"
    }
   ],
   "source": [
    "#Sigmoid Kernel Implementation\n",
    "\n",
    "np.random.seed(0) \n",
    "x_train, x_test, y_train, y_test = train_test_split( X, y, test_size=0.2, random_state = 0)\n",
    "classifier = SVC(kernel='sigmoid', C=50) #create SVC\n",
    "classifier.fit(x_train, y_train)\n",
    "    \n",
    "y_pred = classifier.predict(x_test)\n",
    "\n",
    "accuracy = metrics.accuracy_score(y_test, y_pred)\n",
    "precision = metrics.precision_score(y_test, y_pred)\n",
    "recall = metrics.recall_score(y_test, y_pred)\n",
    "\n",
    "print('Sigmoid Accuracy:', accuracy)\n",
    "print('Sigmoid Precision:', precision)\n",
    "print('Sigmoid Recall:', recall)\n",
    "\n",
    "#plotting\n",
    "plt.plot(accuracy, label=\"accuracy\", color = 'purple') \n",
    "plt.plot(precision, label=\"precision\", color = 'red')\n",
    "plt.plot(recall, label=\"recall\", color = 'green')\n",
    "plt.rcParams[\"figure.figsize\"] = (10,6) \n",
    "plt.grid() "
   ]
  },
  {
   "cell_type": "code",
   "execution_count": 54,
   "id": "01a80155",
   "metadata": {},
   "outputs": [],
   "source": [
    "############################################################################\n",
    "#Problem 2"
   ]
  },
  {
   "cell_type": "code",
   "execution_count": 118,
   "id": "5a83bfb9",
   "metadata": {},
   "outputs": [
    {
     "data": {
      "text/html": [
       "<div>\n",
       "<style scoped>\n",
       "    .dataframe tbody tr th:only-of-type {\n",
       "        vertical-align: middle;\n",
       "    }\n",
       "\n",
       "    .dataframe tbody tr th {\n",
       "        vertical-align: top;\n",
       "    }\n",
       "\n",
       "    .dataframe thead th {\n",
       "        text-align: right;\n",
       "    }\n",
       "</style>\n",
       "<table border=\"1\" class=\"dataframe\">\n",
       "  <thead>\n",
       "    <tr style=\"text-align: right;\">\n",
       "      <th></th>\n",
       "      <th>price</th>\n",
       "      <th>area</th>\n",
       "      <th>bedrooms</th>\n",
       "      <th>bathrooms</th>\n",
       "      <th>stories</th>\n",
       "      <th>mainroad</th>\n",
       "      <th>guestroom</th>\n",
       "      <th>basement</th>\n",
       "      <th>hotwaterheating</th>\n",
       "      <th>airconditioning</th>\n",
       "      <th>parking</th>\n",
       "      <th>prefarea</th>\n",
       "      <th>furnishingstatus</th>\n",
       "    </tr>\n",
       "  </thead>\n",
       "  <tbody>\n",
       "    <tr>\n",
       "      <th>0</th>\n",
       "      <td>13300000</td>\n",
       "      <td>7420</td>\n",
       "      <td>4</td>\n",
       "      <td>2</td>\n",
       "      <td>3</td>\n",
       "      <td>yes</td>\n",
       "      <td>no</td>\n",
       "      <td>no</td>\n",
       "      <td>no</td>\n",
       "      <td>yes</td>\n",
       "      <td>2</td>\n",
       "      <td>yes</td>\n",
       "      <td>furnished</td>\n",
       "    </tr>\n",
       "    <tr>\n",
       "      <th>1</th>\n",
       "      <td>12250000</td>\n",
       "      <td>8960</td>\n",
       "      <td>4</td>\n",
       "      <td>4</td>\n",
       "      <td>4</td>\n",
       "      <td>yes</td>\n",
       "      <td>no</td>\n",
       "      <td>no</td>\n",
       "      <td>no</td>\n",
       "      <td>yes</td>\n",
       "      <td>3</td>\n",
       "      <td>no</td>\n",
       "      <td>furnished</td>\n",
       "    </tr>\n",
       "    <tr>\n",
       "      <th>2</th>\n",
       "      <td>12250000</td>\n",
       "      <td>9960</td>\n",
       "      <td>3</td>\n",
       "      <td>2</td>\n",
       "      <td>2</td>\n",
       "      <td>yes</td>\n",
       "      <td>no</td>\n",
       "      <td>yes</td>\n",
       "      <td>no</td>\n",
       "      <td>no</td>\n",
       "      <td>2</td>\n",
       "      <td>yes</td>\n",
       "      <td>semi-furnished</td>\n",
       "    </tr>\n",
       "    <tr>\n",
       "      <th>3</th>\n",
       "      <td>12215000</td>\n",
       "      <td>7500</td>\n",
       "      <td>4</td>\n",
       "      <td>2</td>\n",
       "      <td>2</td>\n",
       "      <td>yes</td>\n",
       "      <td>no</td>\n",
       "      <td>yes</td>\n",
       "      <td>no</td>\n",
       "      <td>yes</td>\n",
       "      <td>3</td>\n",
       "      <td>yes</td>\n",
       "      <td>furnished</td>\n",
       "    </tr>\n",
       "    <tr>\n",
       "      <th>4</th>\n",
       "      <td>11410000</td>\n",
       "      <td>7420</td>\n",
       "      <td>4</td>\n",
       "      <td>1</td>\n",
       "      <td>2</td>\n",
       "      <td>yes</td>\n",
       "      <td>yes</td>\n",
       "      <td>yes</td>\n",
       "      <td>no</td>\n",
       "      <td>yes</td>\n",
       "      <td>2</td>\n",
       "      <td>no</td>\n",
       "      <td>furnished</td>\n",
       "    </tr>\n",
       "  </tbody>\n",
       "</table>\n",
       "</div>"
      ],
      "text/plain": [
       "      price  area  bedrooms  bathrooms  stories mainroad guestroom basement  \\\n",
       "0  13300000  7420         4          2        3      yes        no       no   \n",
       "1  12250000  8960         4          4        4      yes        no       no   \n",
       "2  12250000  9960         3          2        2      yes        no      yes   \n",
       "3  12215000  7500         4          2        2      yes        no      yes   \n",
       "4  11410000  7420         4          1        2      yes       yes      yes   \n",
       "\n",
       "  hotwaterheating airconditioning  parking prefarea furnishingstatus  \n",
       "0              no             yes        2      yes        furnished  \n",
       "1              no             yes        3       no        furnished  \n",
       "2              no              no        2      yes   semi-furnished  \n",
       "3              no             yes        3      yes        furnished  \n",
       "4              no             yes        2       no        furnished  "
      ]
     },
     "execution_count": 118,
     "metadata": {},
     "output_type": "execute_result"
    }
   ],
   "source": [
    "housing = pd.DataFrame(pd.read_csv(\"Housing.csv\"))\n",
    "housing.head()"
   ]
  },
  {
   "cell_type": "code",
   "execution_count": 119,
   "id": "8352ac99",
   "metadata": {},
   "outputs": [
    {
     "data": {
      "text/html": [
       "<div>\n",
       "<style scoped>\n",
       "    .dataframe tbody tr th:only-of-type {\n",
       "        vertical-align: middle;\n",
       "    }\n",
       "\n",
       "    .dataframe tbody tr th {\n",
       "        vertical-align: top;\n",
       "    }\n",
       "\n",
       "    .dataframe thead th {\n",
       "        text-align: right;\n",
       "    }\n",
       "</style>\n",
       "<table border=\"1\" class=\"dataframe\">\n",
       "  <thead>\n",
       "    <tr style=\"text-align: right;\">\n",
       "      <th></th>\n",
       "      <th>price</th>\n",
       "      <th>area</th>\n",
       "      <th>bedrooms</th>\n",
       "      <th>bathrooms</th>\n",
       "      <th>stories</th>\n",
       "      <th>mainroad</th>\n",
       "      <th>guestroom</th>\n",
       "      <th>basement</th>\n",
       "      <th>hotwaterheating</th>\n",
       "      <th>airconditioning</th>\n",
       "      <th>parking</th>\n",
       "      <th>prefarea</th>\n",
       "      <th>furnishingstatus</th>\n",
       "    </tr>\n",
       "  </thead>\n",
       "  <tbody>\n",
       "    <tr>\n",
       "      <th>0</th>\n",
       "      <td>13300000</td>\n",
       "      <td>7420</td>\n",
       "      <td>4</td>\n",
       "      <td>2</td>\n",
       "      <td>3</td>\n",
       "      <td>1</td>\n",
       "      <td>0</td>\n",
       "      <td>0</td>\n",
       "      <td>0</td>\n",
       "      <td>1</td>\n",
       "      <td>2</td>\n",
       "      <td>1</td>\n",
       "      <td>furnished</td>\n",
       "    </tr>\n",
       "    <tr>\n",
       "      <th>1</th>\n",
       "      <td>12250000</td>\n",
       "      <td>8960</td>\n",
       "      <td>4</td>\n",
       "      <td>4</td>\n",
       "      <td>4</td>\n",
       "      <td>1</td>\n",
       "      <td>0</td>\n",
       "      <td>0</td>\n",
       "      <td>0</td>\n",
       "      <td>1</td>\n",
       "      <td>3</td>\n",
       "      <td>0</td>\n",
       "      <td>furnished</td>\n",
       "    </tr>\n",
       "    <tr>\n",
       "      <th>2</th>\n",
       "      <td>12250000</td>\n",
       "      <td>9960</td>\n",
       "      <td>3</td>\n",
       "      <td>2</td>\n",
       "      <td>2</td>\n",
       "      <td>1</td>\n",
       "      <td>0</td>\n",
       "      <td>1</td>\n",
       "      <td>0</td>\n",
       "      <td>0</td>\n",
       "      <td>2</td>\n",
       "      <td>1</td>\n",
       "      <td>semi-furnished</td>\n",
       "    </tr>\n",
       "    <tr>\n",
       "      <th>3</th>\n",
       "      <td>12215000</td>\n",
       "      <td>7500</td>\n",
       "      <td>4</td>\n",
       "      <td>2</td>\n",
       "      <td>2</td>\n",
       "      <td>1</td>\n",
       "      <td>0</td>\n",
       "      <td>1</td>\n",
       "      <td>0</td>\n",
       "      <td>1</td>\n",
       "      <td>3</td>\n",
       "      <td>1</td>\n",
       "      <td>furnished</td>\n",
       "    </tr>\n",
       "    <tr>\n",
       "      <th>4</th>\n",
       "      <td>11410000</td>\n",
       "      <td>7420</td>\n",
       "      <td>4</td>\n",
       "      <td>1</td>\n",
       "      <td>2</td>\n",
       "      <td>1</td>\n",
       "      <td>1</td>\n",
       "      <td>1</td>\n",
       "      <td>0</td>\n",
       "      <td>1</td>\n",
       "      <td>2</td>\n",
       "      <td>0</td>\n",
       "      <td>furnished</td>\n",
       "    </tr>\n",
       "  </tbody>\n",
       "</table>\n",
       "</div>"
      ],
      "text/plain": [
       "      price  area  bedrooms  bathrooms  stories  mainroad  guestroom  \\\n",
       "0  13300000  7420         4          2        3         1          0   \n",
       "1  12250000  8960         4          4        4         1          0   \n",
       "2  12250000  9960         3          2        2         1          0   \n",
       "3  12215000  7500         4          2        2         1          0   \n",
       "4  11410000  7420         4          1        2         1          1   \n",
       "\n",
       "   basement  hotwaterheating  airconditioning  parking  prefarea  \\\n",
       "0         0                0                1        2         1   \n",
       "1         0                0                1        3         0   \n",
       "2         1                0                0        2         1   \n",
       "3         1                0                1        3         1   \n",
       "4         1                0                1        2         0   \n",
       "\n",
       "  furnishingstatus  \n",
       "0        furnished  \n",
       "1        furnished  \n",
       "2   semi-furnished  \n",
       "3        furnished  \n",
       "4        furnished  "
      ]
     },
     "execution_count": 119,
     "metadata": {},
     "output_type": "execute_result"
    }
   ],
   "source": [
    "varlist = ['mainroad', 'guestroom', 'basement', 'hotwaterheating', 'airconditioning', 'prefarea']\n",
    "\n",
    "def binary_map(x):\n",
    "    return x.map({'yes': 1, \"no\": 0})\n",
    "\n",
    "housing[varlist] = housing[varlist].apply(binary_map)\n",
    "housing.head()"
   ]
  },
  {
   "cell_type": "code",
   "execution_count": 120,
   "id": "db77472d",
   "metadata": {},
   "outputs": [
    {
     "data": {
      "text/plain": [
       "(436, 13)"
      ]
     },
     "execution_count": 120,
     "metadata": {},
     "output_type": "execute_result"
    }
   ],
   "source": [
    "from sklearn.model_selection import train_test_split\n",
    "\n",
    "np.random.seed(0)\n",
    "df_train, df_test = train_test_split(housing, train_size = 0.8, test_size = 0.2)\n",
    "df_train.shape"
   ]
  },
  {
   "cell_type": "code",
   "execution_count": 121,
   "id": "e80001f6",
   "metadata": {},
   "outputs": [],
   "source": [
    "price = df_train.values[:, 0]\n",
    "area = df_train.values[:, 1]\n",
    "bedrooms = df_train.values[:, 2]\n",
    "bathrooms = df_train.values[:, 3]\n",
    "stories = df_train.values[:, 4]\n",
    "mainroad = df_train.values[:, 5]\n",
    "guestroom = df_train.values[:, 6]\n",
    "basement = df_train.values[:, 7]\n",
    "hotwaterheating = df_train.values[:, 8]\n",
    "airconditioning = df_train.values[:, 9]\n",
    "parking = df_train.values[:, 10]\n",
    "prefarea = df_train.values[:, 11]\n",
    "\n",
    "M = len(df_train)\n",
    "\n",
    "X0 = np.ones((M,1))\n",
    "X1 = area.reshape(M,1)\n",
    "X2 = bedrooms.reshape(M,1)\n",
    "X3 = bathrooms.reshape(M,1)\n",
    "X4 = stories.reshape(M,1)\n",
    "X5 = mainroad.reshape(M,1)\n",
    "X6 = guestroom.reshape(M,1)\n",
    "X7 = basement.reshape(M,1)\n",
    "X8 = hotwaterheating.reshape(M,1)\n",
    "X9 = airconditioning.reshape(M,1)\n",
    "X10 = parking.reshape(M,1)\n",
    "X11 = prefarea.reshape(M,1)\n",
    "\n",
    "\n",
    "# create X and Y\n",
    "X = np.hstack((X0, X1, X2, X3, X4, X5, X6, X7, X8, X9, X10, X11))\n",
    "Y = price"
   ]
  },
  {
   "cell_type": "code",
   "execution_count": 122,
   "id": "2708dd5d",
   "metadata": {},
   "outputs": [
    {
     "name": "stdout",
     "output_type": "stream",
     "text": [
      "X data: [[1.0 3620 2 1 1 1 0 0 0 0 0 0]\n",
      " [1.0 4000 2 1 1 1 0 0 0 0 0 0]\n",
      " [1.0 3040 2 1 1 0 0 0 0 0 0 0]\n",
      " [1.0 3600 2 1 1 1 0 0 0 0 0 0]\n",
      " [1.0 9860 3 1 1 1 0 0 0 0 0 0]]\n",
      "(436, 12)\n"
     ]
    }
   ],
   "source": [
    "print('X data:', X[:5])\n",
    "print(X.shape)"
   ]
  },
  {
   "cell_type": "code",
   "execution_count": 123,
   "id": "f6d4db05",
   "metadata": {},
   "outputs": [
    {
     "name": "stdout",
     "output_type": "stream",
     "text": [
      "Y data: [1750000 2695000 2870000 2590000 4515000]\n",
      "(436,)\n"
     ]
    }
   ],
   "source": [
    "print('Y data:', Y[:5])\n",
    "print(Y.shape)"
   ]
  },
  {
   "cell_type": "code",
   "execution_count": 124,
   "id": "1bb66567",
   "metadata": {},
   "outputs": [
    {
     "data": {
      "text/plain": [
       "(436, 1)"
      ]
     },
     "execution_count": 124,
     "metadata": {},
     "output_type": "execute_result"
    }
   ],
   "source": [
    "np.random.seed(0) \n",
    "x_train, x_test, y_train, y_test = train_test_split(X, Y, test_size = 0.2, random_state=0)\n",
    "X = scaling.fit_transform(X)\n",
    "Y =Y.reshape(-1,1)\n",
    "Y.shape"
   ]
  },
  {
   "cell_type": "code",
   "execution_count": 131,
   "id": "b5428f14",
   "metadata": {},
   "outputs": [
    {
     "name": "stdout",
     "output_type": "stream",
     "text": [
      "[[ 0.          1.82750687  0.08129831  1.57893436  0.24494719  0.4\n",
      "  -0.48377945 -0.70253984 -0.19699231  1.44209778  1.46132229 -0.55522129]\n",
      " [ 0.         -0.84050994  1.42852743  1.57893436  0.24494719  0.4\n",
      "  -0.48377945  1.42340681 -0.19699231  1.44209778  1.46132229 -0.55522129]\n",
      " [ 0.         -0.95952928 -1.26593081  1.57893436 -0.9069666   0.4\n",
      "  -0.48377945  1.42340681 -0.19699231 -0.69343425  1.46132229 -0.55522129]\n",
      " [ 0.          0.14139959  2.77575655 -0.55079106  0.24494719  0.4\n",
      "   2.06705764  1.42340681 -0.19699231  1.44209778 -0.78885539  1.80108368]\n",
      " [ 0.         -0.73140888 -1.26593081 -0.55079106 -0.9069666   0.4\n",
      "  -0.48377945 -0.70253984 -0.19699231 -0.69343425 -0.78885539 -0.55522129]]\n"
     ]
    },
    {
     "data": {
      "text/plain": [
       "(436, 1)"
      ]
     },
     "execution_count": 131,
     "metadata": {},
     "output_type": "execute_result"
    }
   ],
   "source": [
    "scaledtestX = scaling.fit_transform(x_test)\n",
    "print(scaledX[:5])\n",
    "\n",
    "Y_standard = scaling.fit_transform(Y)\n",
    "Y_standard.shape"
   ]
  },
  {
   "cell_type": "code",
   "execution_count": 161,
   "id": "45c40f5e",
   "metadata": {},
   "outputs": [
    {
     "name": "stdout",
     "output_type": "stream",
     "text": [
      "Number of components = 1\n",
      "MSE: 0.3644840436956008\n",
      "Number of components = 2\n",
      "MSE: 0.38288403410802113\n",
      "Number of components = 3\n",
      "MSE: 0.4083951339460144\n",
      "Number of components = 4\n",
      "MSE: 0.4331461644970008\n",
      "Number of components = 5\n",
      "MSE: 0.4551463094973391\n",
      "Number of components = 6\n",
      "MSE: 0.42214664787795064\n",
      "Number of components = 7\n",
      "MSE: 0.43509961838130856\n",
      "Number of components = 8\n",
      "MSE: 0.4603122517656381\n",
      "Number of components = 9\n",
      "MSE: 0.45586768343211137\n",
      "Number of components = 10\n",
      "MSE: 0.4474835740713962\n",
      "Number of components = 11\n",
      "MSE: 0.45317926392228086\n"
     ]
    }
   ],
   "source": [
    "from sklearn.svm import SVR \n",
    "from sklearn.metrics import mean_squared_error\n",
    "\n",
    "MSE=np.zeros(12)\n",
    "\n",
    "for k in range(1,12):  \n",
    "    pca = PCA(n_components = k)\n",
    "    principalComponents = pca.fit_transform(X)\n",
    "    \n",
    "    x_train, x_test, y_train, y_test = train_test_split(principalComponents, Y_standard, test_size = 0.2, random_state=0)\n",
    "    print (f\"Number of components = {k}\")\n",
    "    svr = SVR(kernel='rbf').fit(x_train, y_train.ravel())\n",
    "    y_fit = svr.predict(x_test)\n",
    " \n",
    "    MSE[k] = mean_squared_error(y_test, y_fit)\n",
    "    print(\"MSE:\", MSE[k])\n"
   ]
  },
  {
   "cell_type": "code",
   "execution_count": 162,
   "id": "75b9f7ed",
   "metadata": {},
   "outputs": [
    {
     "data": {
      "text/plain": [
       "Text(0.5, 1.0, 'RBF Kernel ')"
      ]
     },
     "execution_count": 162,
     "metadata": {},
     "output_type": "execute_result"
    },
    {
     "data": {
      "image/png": "[encoded data removed]",
      "text/plain": [
       "<Figure size 720x432 with 1 Axes>"
      ]
     },
     "metadata": {
      "needs_background": "light"
     },
     "output_type": "display_data"
    }
   ],
   "source": [
    "plt.xlabel(\"Principal Components (K)\")\n",
    "plt.ylabel(\"MSE\", fontsize = 12)\n",
    "plt.plot(MSE, label=\"MSE\", color = 'blue') \n",
    "plt.title('RBF Kernel ')\n"
   ]
  },
  {
   "cell_type": "code",
   "execution_count": 163,
   "id": "d68c54a9",
   "metadata": {},
   "outputs": [
    {
     "name": "stdout",
     "output_type": "stream",
     "text": [
      "Number of components = 1\n",
      "MSE: 0.41970138141985447\n",
      "Number of components = 2\n",
      "MSE: 0.42724131914884106\n",
      "Number of components = 3\n",
      "MSE: 0.4235375443911899\n",
      "Number of components = 4\n",
      "MSE: 0.4361227219623865\n",
      "Number of components = 5\n",
      "MSE: 0.4387098322365363\n",
      "Number of components = 6\n",
      "MSE: 0.43498863076237604\n",
      "Number of components = 7\n",
      "MSE: 0.4255467603280587\n",
      "Number of components = 8\n",
      "MSE: 0.41917818961854414\n",
      "Number of components = 9\n",
      "MSE: 0.38463466695218235\n",
      "Number of components = 10\n",
      "MSE: 0.3861429362335081\n",
      "Number of components = 11\n",
      "MSE: 0.3610696460405301\n"
     ]
    }
   ],
   "source": [
    "from sklearn.svm import SVR \n",
    "from sklearn.metrics import mean_squared_error\n",
    "\n",
    "MSE=np.zeros(12)\n",
    "\n",
    "for k in range(1,12):  \n",
    "    pca = PCA(n_components = k)\n",
    "    principalComponents = pca.fit_transform(X)\n",
    "    \n",
    "    x_train, x_test, y_train, y_test = train_test_split(principalComponents, Y_standard, test_size = 0.2, random_state=0)\n",
    "    print (f\"Number of components = {k}\")\n",
    "    svr = SVR(kernel='linear').fit(x_train, y_train.ravel())\n",
    "    y_fit = svr.predict(x_test)\n",
    " \n",
    "    MSE[k] = mean_squared_error(y_test, y_fit)\n",
    "    print(\"MSE:\", MSE[k])"
   ]
  },
  {
   "cell_type": "code",
   "execution_count": 164,
   "id": "225e45bb",
   "metadata": {},
   "outputs": [
    {
     "data": {
      "text/plain": [
       "Text(0.5, 1.0, 'Linear Kernel ')"
      ]
     },
     "execution_count": 164,
     "metadata": {},
     "output_type": "execute_result"
    },
    {
     "data": {
      "image/png": "[encoded data removed]",
      "text/plain": [
       "<Figure size 720x432 with 1 Axes>"
      ]
     },
     "metadata": {
      "needs_background": "light"
     },
     "output_type": "display_data"
    }
   ],
   "source": [
    "plt.xlabel(\"Principal Components (K)\")\n",
    "plt.ylabel(\"MSE\", fontsize = 12)\n",
    "plt.plot(MSE, label=\"MSE\", color = 'green') \n",
    "plt.title('Linear Kernel ')"
   ]
  },
  {
   "cell_type": "code",
   "execution_count": 165,
   "id": "a5184c94",
   "metadata": {},
   "outputs": [
    {
     "name": "stdout",
     "output_type": "stream",
     "text": [
      "Number of components = 1\n",
      "MSE: 182.16833815885357\n",
      "Number of components = 2\n",
      "MSE: 84.4662044688834\n",
      "Number of components = 3\n",
      "MSE: 29.259607723480624\n",
      "Number of components = 4\n",
      "MSE: 18.806420248305855\n",
      "Number of components = 5\n",
      "MSE: 7.523906859977575\n",
      "Number of components = 6\n",
      "MSE: 5.252263779214355\n",
      "Number of components = 7\n",
      "MSE: 3.8903090985198148\n",
      "Number of components = 8\n",
      "MSE: 4.4170202640658465\n",
      "Number of components = 9\n",
      "MSE: 3.222719370377815\n",
      "Number of components = 10\n",
      "MSE: 1.7739685452188387\n",
      "Number of components = 11\n",
      "MSE: 1.517604858396763\n"
     ]
    }
   ],
   "source": [
    "from sklearn.svm import SVR \n",
    "from sklearn.metrics import mean_squared_error\n",
    "\n",
    "MSE=np.zeros(12)\n",
    "\n",
    "for k in range(1,12):  \n",
    "    pca = PCA(n_components = k)\n",
    "    principalComponents = pca.fit_transform(X)\n",
    "    \n",
    "    x_train, x_test, y_train, y_test = train_test_split(principalComponents, Y_standard, test_size = 0.2, random_state=0)\n",
    "    print (f\"Number of components = {k}\")\n",
    "    svr = SVR(kernel='sigmoid').fit(x_train, y_train.ravel())\n",
    "    y_fit = svr.predict(x_test)\n",
    " \n",
    "    MSE[k] = mean_squared_error(y_test, y_fit)\n",
    "    print(\"MSE:\", MSE[k])"
   ]
  },
  {
   "cell_type": "code",
   "execution_count": 166,
   "id": "bd17d572",
   "metadata": {},
   "outputs": [
    {
     "data": {
      "text/plain": [
       "Text(0.5, 1.0, 'Sigmoid Kernel ')"
      ]
     },
     "execution_count": 166,
     "metadata": {},
     "output_type": "execute_result"
    },
    {
     "data": {
      "image/png": "[encoded data removed]",
      "text/plain": [
       "<Figure size 720x432 with 1 Axes>"
      ]
     },
     "metadata": {
      "needs_background": "light"
     },
     "output_type": "display_data"
    }
   ],
   "source": [
    "plt.xlabel(\"Principal Components (K)\")\n",
    "plt.ylabel(\"MSE\", fontsize = 12)\n",
    "plt.plot(MSE, label=\"MSE\", color = 'yellow') \n",
    "plt.title('Sigmoid Kernel ')"
   ]
  },
  {
   "cell_type": "code",
   "execution_count": null,
   "id": "5d3f5886",
   "metadata": {},
   "outputs": [],
   "source": []
  },
  {
   "cell_type": "code",
   "execution_count": null,
   "id": "cc3d0b38",
   "metadata": {},
   "outputs": [],
   "source": []
  }
 ],
 "metadata": {
  "kernelspec": {
   "display_name": "Python 3 (ipykernel)",
   "language": "python",
   "name": "python3"
  },
  "language_info": {
   "codemirror_mode": {
    "name": "ipython",
    "version": 3
   },
   "file_extension": ".py",
   "mimetype": "text/x-python",
   "name": "python",
   "nbconvert_exporter": "python",
   "pygments_lexer": "ipython3",
   "version": "3.9.12"
  }
 },
 "nbformat": 4,
 "nbformat_minor": 5
}
