{
 "cells": [
  {
   "cell_type": "code",
   "execution_count": 150,
   "id": "c913857d",
   "metadata": {},
   "outputs": [],
   "source": [
    "import numpy as np \n",
    "import pandas as pd \n",
    "import matplotlib.pyplot as plt"
   ]
  },
  {
   "cell_type": "code",
   "execution_count": 151,
   "id": "655c5696",
   "metadata": {},
   "outputs": [
    {
     "data": {
      "text/plain": [
       "545"
      ]
     },
     "execution_count": 151,
     "metadata": {},
     "output_type": "execute_result"
    }
   ],
   "source": [
    "housing = pd.read_csv('Housing.csv')\n",
    "housing.head()\n",
    "M=len(housing)\n",
    "M \n"
   ]
  },
  {
   "cell_type": "code",
   "execution_count": 152,
   "id": "78ae3d54",
   "metadata": {},
   "outputs": [],
   "source": [
    "def compute_cost(X,y,theta):\n",
    "    predictions = X.dot(theta) \n",
    "    errors = np.subtract(predictions, y)\n",
    "    sqrErrors = np.square(errors)\n",
    "    J = 1 / (2 * M) * np.sum(sqrErrors)\n",
    "    return J"
   ]
  },
  {
   "cell_type": "code",
   "execution_count": 153,
   "id": "18c753ff",
   "metadata": {},
   "outputs": [],
   "source": [
    "def gradient_descent(X, y, theta, alpha, iterations):\n",
    "    cost_history = np.zeros(iterations)\n",
    "    lamda = 0.5\n",
    "    for i in range(iterations):\n",
    "        predictions = X.dot(theta)\n",
    "        errors = np.subtract(predictions, y)\n",
    "        sum_delta = (alpha / M) * (X.transpose().dot(errors) + lamda * theta);\n",
    "        theta = theta - sum_delta;\n",
    "        cost_history[i] = compute_cost(X, y, theta)\n",
    "        \n",
    "    return theta, cost_history"
   ]
  },
  {
   "cell_type": "code",
   "execution_count": 154,
   "id": "adacb328",
   "metadata": {},
   "outputs": [
    {
     "data": {
      "text/html": [
       "<div>\n",
       "<style scoped>\n",
       "    .dataframe tbody tr th:only-of-type {\n",
       "        vertical-align: middle;\n",
       "    }\n",
       "\n",
       "    .dataframe tbody tr th {\n",
       "        vertical-align: top;\n",
       "    }\n",
       "\n",
       "    .dataframe thead th {\n",
       "        text-align: right;\n",
       "    }\n",
       "</style>\n",
       "<table border=\"1\" class=\"dataframe\">\n",
       "  <thead>\n",
       "    <tr style=\"text-align: right;\">\n",
       "      <th></th>\n",
       "      <th>price</th>\n",
       "      <th>area</th>\n",
       "      <th>bedrooms</th>\n",
       "      <th>bathrooms</th>\n",
       "      <th>stories</th>\n",
       "      <th>mainroad</th>\n",
       "      <th>guestroom</th>\n",
       "      <th>basement</th>\n",
       "      <th>hotwaterheating</th>\n",
       "      <th>airconditioning</th>\n",
       "      <th>parking</th>\n",
       "      <th>prefarea</th>\n",
       "      <th>furnishingstatus</th>\n",
       "    </tr>\n",
       "  </thead>\n",
       "  <tbody>\n",
       "    <tr>\n",
       "      <th>0</th>\n",
       "      <td>13300000</td>\n",
       "      <td>7420</td>\n",
       "      <td>4</td>\n",
       "      <td>2</td>\n",
       "      <td>3</td>\n",
       "      <td>1</td>\n",
       "      <td>0</td>\n",
       "      <td>0</td>\n",
       "      <td>0</td>\n",
       "      <td>1</td>\n",
       "      <td>2</td>\n",
       "      <td>1</td>\n",
       "      <td>furnished</td>\n",
       "    </tr>\n",
       "    <tr>\n",
       "      <th>1</th>\n",
       "      <td>12250000</td>\n",
       "      <td>8960</td>\n",
       "      <td>4</td>\n",
       "      <td>4</td>\n",
       "      <td>4</td>\n",
       "      <td>1</td>\n",
       "      <td>0</td>\n",
       "      <td>0</td>\n",
       "      <td>0</td>\n",
       "      <td>1</td>\n",
       "      <td>3</td>\n",
       "      <td>0</td>\n",
       "      <td>furnished</td>\n",
       "    </tr>\n",
       "    <tr>\n",
       "      <th>2</th>\n",
       "      <td>12250000</td>\n",
       "      <td>9960</td>\n",
       "      <td>3</td>\n",
       "      <td>2</td>\n",
       "      <td>2</td>\n",
       "      <td>1</td>\n",
       "      <td>0</td>\n",
       "      <td>1</td>\n",
       "      <td>0</td>\n",
       "      <td>0</td>\n",
       "      <td>2</td>\n",
       "      <td>1</td>\n",
       "      <td>semi-furnished</td>\n",
       "    </tr>\n",
       "    <tr>\n",
       "      <th>3</th>\n",
       "      <td>12215000</td>\n",
       "      <td>7500</td>\n",
       "      <td>4</td>\n",
       "      <td>2</td>\n",
       "      <td>2</td>\n",
       "      <td>1</td>\n",
       "      <td>0</td>\n",
       "      <td>1</td>\n",
       "      <td>0</td>\n",
       "      <td>1</td>\n",
       "      <td>3</td>\n",
       "      <td>1</td>\n",
       "      <td>furnished</td>\n",
       "    </tr>\n",
       "    <tr>\n",
       "      <th>4</th>\n",
       "      <td>11410000</td>\n",
       "      <td>7420</td>\n",
       "      <td>4</td>\n",
       "      <td>1</td>\n",
       "      <td>2</td>\n",
       "      <td>1</td>\n",
       "      <td>1</td>\n",
       "      <td>1</td>\n",
       "      <td>0</td>\n",
       "      <td>1</td>\n",
       "      <td>2</td>\n",
       "      <td>0</td>\n",
       "      <td>furnished</td>\n",
       "    </tr>\n",
       "  </tbody>\n",
       "</table>\n",
       "</div>"
      ],
      "text/plain": [
       "      price  area  bedrooms  bathrooms  stories  mainroad  guestroom  \\\n",
       "0  13300000  7420         4          2        3         1          0   \n",
       "1  12250000  8960         4          4        4         1          0   \n",
       "2  12250000  9960         3          2        2         1          0   \n",
       "3  12215000  7500         4          2        2         1          0   \n",
       "4  11410000  7420         4          1        2         1          1   \n",
       "\n",
       "   basement  hotwaterheating  airconditioning  parking  prefarea  \\\n",
       "0         0                0                1        2         1   \n",
       "1         0                0                1        3         0   \n",
       "2         1                0                0        2         1   \n",
       "3         1                0                1        3         1   \n",
       "4         1                0                1        2         0   \n",
       "\n",
       "  furnishingstatus  \n",
       "0        furnished  \n",
       "1        furnished  \n",
       "2   semi-furnished  \n",
       "3        furnished  \n",
       "4        furnished  "
      ]
     },
     "execution_count": 154,
     "metadata": {},
     "output_type": "execute_result"
    }
   ],
   "source": [
    "varlist = ['mainroad', 'guestroom', 'basement', 'hotwaterheating', 'airconditioning', 'prefarea']\n",
    "\n",
    "def binary_map(x):\n",
    "    return x.map({'yes': 1, \"no\": 0})\n",
    "\n",
    "housing[varlist] = housing[varlist].apply(binary_map)\n",
    "housing.head()"
   ]
  },
  {
   "cell_type": "code",
   "execution_count": 155,
   "id": "1c3b6bf2",
   "metadata": {},
   "outputs": [],
   "source": [
    "#Problem 3A"
   ]
  },
  {
   "cell_type": "code",
   "execution_count": 156,
   "id": "681a74c4",
   "metadata": {},
   "outputs": [],
   "source": [
    "import warnings\n",
    "warnings.filterwarnings('ignore')\n",
    "\n",
    "from sklearn.preprocessing import MinMaxScaler, StandardScaler\n",
    "\n",
    "normalScaler = MinMaxScaler()\n",
    "standardScaler = StandardScaler()"
   ]
  },
  {
   "cell_type": "code",
   "execution_count": 157,
   "id": "c1044830",
   "metadata": {},
   "outputs": [],
   "source": [
    "np.random.seed(0)\n",
    "df_NormTrain, df_NormTest = train_test_split(housing, train_size = 0.8, test_size = 0.2)\n",
    "df_NormTest.shape\n",
    "\n",
    "num_vars = ['price', 'area', 'bedrooms', 'bathrooms', 'stories', 'mainroad', 'guestroom', 'basement', 'hotwaterheating', 'airconditioning', 'parking', 'prefarea']\n",
    "df_NormTrain[num_vars] = normalScaler.fit_transform(df_NormTrain[num_vars])\n",
    "df_NormTest[num_vars] = normalScaler.fit_transform(df_NormTest[num_vars])\n",
    "\n",
    "# training set\n",
    "price = df_NormTrain.values[:, 0]\n",
    "area = df_NormTrain.values[:, 1]\n",
    "bedrooms = df_NormTrain.values[:, 2]\n",
    "bathrooms = df_NormTrain.values[:, 3]\n",
    "stories = df_NormTrain.values[:, 4]\n",
    "parking = df_NormTrain.values[:, 10]\n",
    "\n",
    "M = len(df_NormTrain)\n",
    "\n",
    "X0 = np.ones((M,1))\n",
    "X1 = area.reshape(M,1)\n",
    "X2 = bedrooms.reshape(M,1)\n",
    "X3 = bathrooms.reshape(M,1)\n",
    "X4 = stories.reshape(M,1)\n",
    "X5 = parking.reshape(M,1)\n",
    "\n",
    "# create X and Y\n",
    "X = np.hstack((X0, X1, X2, X3, X4, X5))\n",
    "Y = price"
   ]
  },
  {
   "cell_type": "code",
   "execution_count": 158,
   "id": "6acade86",
   "metadata": {},
   "outputs": [],
   "source": [
    "theta = np.zeros(6)\n",
    "iterations = 1500;\n",
    "alpha = 0.01;\n",
    "\n",
    "theta, cost_history_NormTrain = gradient_descent(X, Y, theta, alpha, iterations)"
   ]
  },
  {
   "cell_type": "code",
   "execution_count": 159,
   "id": "9192f1ab",
   "metadata": {},
   "outputs": [],
   "source": [
    "# Test set\n",
    "price = df_NormTest.values[:, 0]\n",
    "area = df_NormTest.values[:, 1]\n",
    "bedrooms = df_NormTest.values[:, 2]\n",
    "bathrooms = df_NormTest.values[:, 3]\n",
    "stories = df_NormTest.values[:, 4]\n",
    "parking = df_NormTest.values[:, 10]\n",
    "\n",
    "M = len(df_NormTest)\n",
    "\n",
    "X0 = np.ones((M,1))\n",
    "X1 = area.reshape(M,1)\n",
    "X2 = bedrooms.reshape(M,1)\n",
    "X3 = bathrooms.reshape(M,1)\n",
    "X4 = stories.reshape(M,1)\n",
    "X5 = parking.reshape(M,1)\n",
    "\n",
    "# create X and Y\n",
    "X = np.hstack((X0, X1, X2, X3, X4, X5))\n",
    "Y = price"
   ]
  },
  {
   "cell_type": "code",
   "execution_count": 160,
   "id": "ba80a037",
   "metadata": {},
   "outputs": [],
   "source": [
    "theta = np.zeros(6)\n",
    "iterations = 1500;\n",
    "alpha = 0.01;\n",
    "\n",
    "\n",
    "theta, cost_history_NormTest = gradient_descent(X, Y, theta, alpha, iterations)"
   ]
  },
  {
   "cell_type": "code",
   "execution_count": 161,
   "id": "8ff917d0",
   "metadata": {},
   "outputs": [
    {
     "name": "stdout",
     "output_type": "stream",
     "text": [
      "0.007097086507974812\n",
      "0.005730507546235812\n"
     ]
    },
    {
     "data": {
      "image/png": "[encoded data removed]",
      "text/plain": [
       "<Figure size 720x432 with 1 Axes>"
      ]
     },
     "metadata": {
      "needs_background": "light"
     },
     "output_type": "display_data"
    }
   ],
   "source": [
    "plt.plot(range(1, iterations + 1),cost_history_NormTrain, color='blue', label = \"Training Cost\")\n",
    "plt.plot(range(1, iterations + 1),cost_history_NormTest, color='red', label = \"Evaluation Cost\")\n",
    "plt.rcParams[\"figure.figsize\"] = (10,6)\n",
    "plt.grid()\n",
    "plt.legend()\n",
    "plt.xlabel('Number of iterations')\n",
    "plt.ylabel('Cost (J)')\n",
    "plt.title('Cost for X with Normalized Input')\n",
    "print(cost_history_NormTrain[-1])\n",
    "print(cost_history_NormTest[-1])"
   ]
  },
  {
   "cell_type": "code",
   "execution_count": 162,
   "id": "d2554e30",
   "metadata": {},
   "outputs": [],
   "source": [
    "np.random.seed(0)\n",
    "df_StandardTrain, df_StandardTest = train_test_split(housing, train_size = 0.8, test_size = 0.2)\n",
    "df_StandardTest.shape\n",
    "\n",
    "num_vars = ['price', 'area', 'bedrooms', 'bathrooms', 'stories', 'mainroad', 'guestroom', 'basement', 'hotwaterheating', 'airconditioning', 'parking', 'prefarea']\n",
    "df_StandardTrain[num_vars] = standardScaler.fit_transform(df_StandardTrain[num_vars])\n",
    "df_StandardTest[num_vars] = standardScaler.fit_transform(df_StandardTest[num_vars])\n",
    "\n",
    "# training set\n",
    "price = df_StandardTrain.values[:, 0]\n",
    "area = df_StandardTrain.values[:, 1]\n",
    "bedrooms = df_StandardTrain.values[:, 2]\n",
    "bathrooms = df_StandardTrain.values[:, 3]\n",
    "stories = df_StandardTrain.values[:, 4]\n",
    "parking = df_StandardTrain.values[:, 10]\n",
    "\n",
    "M = len(df_StandardTrain)\n",
    "\n",
    "X0 = np.ones((M,1))\n",
    "X1 = area.reshape(M,1)\n",
    "X2 = bedrooms.reshape(M,1)\n",
    "X3 = bathrooms.reshape(M,1)\n",
    "X4 = stories.reshape(M,1)\n",
    "X5 = parking.reshape(M,1)\n",
    "\n",
    "# create X and Y\n",
    "X = np.hstack((X0, X1, X2, X3, X4, X5))\n",
    "Y = price"
   ]
  },
  {
   "cell_type": "code",
   "execution_count": 163,
   "id": "e08a5b3d",
   "metadata": {},
   "outputs": [],
   "source": [
    "theta = np.zeros(6)\n",
    "iterations = 1500;\n",
    "alpha = 0.01;\n",
    "\n",
    "theta, cost_history_StandardTrain = gradient_descent(X, Y, theta, alpha, iterations)"
   ]
  },
  {
   "cell_type": "code",
   "execution_count": 164,
   "id": "3d559d7a",
   "metadata": {},
   "outputs": [],
   "source": [
    "# Test set\n",
    "price = df_StandardTest.values[:, 0]\n",
    "area = df_StandardTest.values[:, 1]\n",
    "bedrooms = df_StandardTest.values[:, 2]\n",
    "bathrooms = df_StandardTest.values[:, 3]\n",
    "stories = df_StandardTest.values[:, 4]\n",
    "parking = df_StandardTest.values[:, 10]\n",
    "\n",
    "M = len(df_StandardTest)\n",
    "\n",
    "X0 = np.ones((M,1))\n",
    "X1 = area.reshape(M,1)\n",
    "X2 = bedrooms.reshape(M,1)\n",
    "X3 = bathrooms.reshape(M,1)\n",
    "X4 = stories.reshape(M,1)\n",
    "X5 = parking.reshape(M,1)\n",
    "\n",
    "# create X and Y\n",
    "X = np.hstack((X0, X1, X2, X3, X4, X5))\n",
    "Y = price\n",
    "\n"
   ]
  },
  {
   "cell_type": "code",
   "execution_count": 165,
   "id": "ca7b30f5",
   "metadata": {},
   "outputs": [],
   "source": [
    "theta = np.zeros(6)\n",
    "iterations = 1500;\n",
    "alpha = 0.01;\n",
    "\n",
    "\n",
    "theta, cost_history_StandardTest = gradient_descent(X, Y, theta, alpha, iterations)"
   ]
  },
  {
   "cell_type": "code",
   "execution_count": 166,
   "id": "f85746f9",
   "metadata": {},
   "outputs": [
    {
     "name": "stdout",
     "output_type": "stream",
     "text": [
      "0.22309648991227854\n",
      "0.18509705024950737\n"
     ]
    },
    {
     "data": {
      "image/png": "[encoded data removed]",
      "text/plain": [
       "<Figure size 720x432 with 1 Axes>"
      ]
     },
     "metadata": {
      "needs_background": "light"
     },
     "output_type": "display_data"
    }
   ],
   "source": [
    "plt.plot(range(1, iterations + 1),cost_history_StandardTrain, color='blue', label = \"Training Cost\")\n",
    "plt.plot(range(1, iterations + 1),cost_history_StandardTest, color='red', label = \"Evaluation Cost\")\n",
    "plt.rcParams[\"figure.figsize\"] = (10,6)\n",
    "plt.grid()\n",
    "plt.legend()\n",
    "plt.xlabel('Number of iterations')\n",
    "plt.ylabel('Cost (J)')\n",
    "plt.title('Cost for X with Standardized Input')\n",
    "print(cost_history_StandardTrain[-1])\n",
    "print(cost_history_StandardTest[-1])"
   ]
  },
  {
   "cell_type": "code",
   "execution_count": 167,
   "id": "be347840",
   "metadata": {},
   "outputs": [],
   "source": [
    "#3b"
   ]
  },
  {
   "cell_type": "code",
   "execution_count": 168,
   "id": "efdb5ff4",
   "metadata": {},
   "outputs": [],
   "source": [
    "price = df_NormTrain.values[:, 0]\n",
    "area = df_NormTrain.values[:, 1]\n",
    "bedrooms = df_NormTrain.values[:, 2]\n",
    "bathrooms = df_NormTrain.values[:, 3]\n",
    "stories = df_NormTrain.values[:, 4]\n",
    "mainroad = df_NormTrain.values[:, 5]\n",
    "guestroom = df_NormTrain.values[:, 6]\n",
    "basement = df_NormTrain.values[:, 7]\n",
    "hotwaterheating = df_NormTrain.values[:, 8]\n",
    "airconditioning = df_NormTrain.values[:, 9]\n",
    "parking = df_NormTrain.values[:, 10]\n",
    "prefarea = df_NormTrain.values[:, 11]\n",
    "\n",
    "M = len(df_NormTrain)\n",
    "\n",
    "X0 = np.ones((M,1))\n",
    "X1 = area.reshape(M,1)\n",
    "X2 = bedrooms.reshape(M,1)\n",
    "X3 = bathrooms.reshape(M,1)\n",
    "X4 = stories.reshape(M,1)\n",
    "X5 = mainroad.reshape(M,1)\n",
    "X6 = guestroom.reshape(M,1)\n",
    "X7 = basement.reshape(M,1)\n",
    "X8 = hotwaterheating.reshape(M,1)\n",
    "X9 = airconditioning.reshape(M,1)\n",
    "X10 = parking.reshape(M,1)\n",
    "X11 = prefarea.reshape(M,1)\n",
    "\n",
    "\n",
    "# create X and Y\n",
    "X = np.hstack((X0, X1, X2, X3, X4, X5, X6, X7, X8, X9, X10, X11))\n",
    "Y = price"
   ]
  },
  {
   "cell_type": "code",
   "execution_count": 169,
   "id": "c2d8c817",
   "metadata": {},
   "outputs": [],
   "source": [
    "theta = np.zeros(12)\n",
    "iterations = 1500;\n",
    "alpha = 0.01;\n",
    "\n",
    "\n",
    "#calculated results from the gradient descent\n",
    "theta, cost_history_NormTrain = gradient_descent(X, Y, theta, alpha, iterations)"
   ]
  },
  {
   "cell_type": "code",
   "execution_count": 170,
   "id": "85c12237",
   "metadata": {},
   "outputs": [],
   "source": [
    "price = df_NormTest.values[:, 0]\n",
    "area = df_NormTest.values[:, 1]\n",
    "bedrooms = df_NormTest.values[:, 2]\n",
    "bathrooms = df_NormTest.values[:, 3]\n",
    "stories = df_NormTest.values[:, 4]\n",
    "mainroad = df_NormTest.values[:, 5]\n",
    "guestroom = df_NormTest.values[:, 6]\n",
    "basement = df_NormTest.values[:, 7]\n",
    "hotwaterheating = df_NormTest.values[:, 8]\n",
    "airconditioning = df_NormTest.values[:, 9]\n",
    "parking = df_NormTest.values[:, 10]\n",
    "prefarea = df_NormTest.values[:, 11]\n",
    "\n",
    "M = len(df_NormTest)\n",
    "\n",
    "#reshape arrays\n",
    "X0 = np.ones((M,1))\n",
    "X1 = area.reshape(M,1)\n",
    "X2 = bedrooms.reshape(M,1)\n",
    "X3 = bathrooms.reshape(M,1)\n",
    "X4 = stories.reshape(M,1)\n",
    "X5 = mainroad.reshape(M,1)\n",
    "X6 = guestroom.reshape(M,1)\n",
    "X7 = basement.reshape(M,1)\n",
    "X8 = hotwaterheating.reshape(M,1)\n",
    "X9 = airconditioning.reshape(M,1)\n",
    "X10 = parking.reshape(M,1)\n",
    "X11 = prefarea.reshape(M,1)\n",
    "\n",
    "\n",
    "# create X and Y\n",
    "X = np.hstack((X0, X1, X2, X3, X4, X5, X6, X7, X8, X9, X10, X11))\n",
    "Y = price"
   ]
  },
  {
   "cell_type": "code",
   "execution_count": 171,
   "id": "73b9cc02",
   "metadata": {},
   "outputs": [],
   "source": [
    "theta = np.zeros(12)\n",
    "iterations = 1500;\n",
    "alpha = 0.01;\n",
    "\n",
    "\n",
    "#calculated results from the gradient descent\n",
    "theta, cost_history_NormTest = gradient_descent(X, Y, theta, alpha, iterations)"
   ]
  },
  {
   "cell_type": "code",
   "execution_count": 172,
   "id": "0833ff52",
   "metadata": {},
   "outputs": [
    {
     "name": "stdout",
     "output_type": "stream",
     "text": [
      "0.005101250597868677\n",
      "0.004182260446617979\n"
     ]
    },
    {
     "data": {
      "image/png": "[encoded data removed]",
      "text/plain": [
       "<Figure size 720x432 with 1 Axes>"
      ]
     },
     "metadata": {
      "needs_background": "light"
     },
     "output_type": "display_data"
    }
   ],
   "source": [
    "plt.plot(range(1, iterations + 1),cost_history_NormTrain, color='blue', label = \"Training Cost\")\n",
    "plt.plot(range(1, iterations + 1),cost_history_NormTest, color='red', label = \"Evaluation Cost\")\n",
    "plt.rcParams[\"figure.figsize\"] = (10,6)\n",
    "plt.grid()\n",
    "plt.legend()\n",
    "plt.xlabel('Number of iterations')\n",
    "plt.ylabel('Cost (J)')\n",
    "plt.title('Cost for X with Normalized Input')\n",
    "print(cost_history_NormTrain[-1])\n",
    "print(cost_history_NormTest[-1])"
   ]
  },
  {
   "cell_type": "code",
   "execution_count": 173,
   "id": "776f8156",
   "metadata": {},
   "outputs": [],
   "source": [
    "price = df_StandardTrain.values[:, 0]\n",
    "area = df_StandardTrain.values[:, 1]\n",
    "bedrooms = df_StandardTrain.values[:, 2]\n",
    "bathrooms = df_StandardTrain.values[:, 3]\n",
    "stories = df_StandardTrain.values[:, 4]\n",
    "mainroad = df_StandardTrain.values[:, 5]\n",
    "guestroom = df_StandardTrain.values[:, 6]\n",
    "basement = df_StandardTrain.values[:, 7]\n",
    "hotwaterheating = df_StandardTrain.values[:, 8]\n",
    "airconditioning = df_StandardTrain.values[:, 9]\n",
    "parking = df_StandardTrain.values[:, 10]\n",
    "prefarea = df_StandardTrain.values[:, 11]\n",
    "\n",
    "M = len(df_StandardTrain)\n",
    "\n",
    "#reshape arrays\n",
    "X0 = np.ones((M,1))\n",
    "X1 = area.reshape(M,1)\n",
    "X2 = bedrooms.reshape(M,1)\n",
    "X3 = bathrooms.reshape(M,1)\n",
    "X4 = stories.reshape(M,1)\n",
    "X5 = mainroad.reshape(M,1)\n",
    "X6 = guestroom.reshape(M,1)\n",
    "X7 = basement.reshape(M,1)\n",
    "X8 = hotwaterheating.reshape(M,1)\n",
    "X9 = airconditioning.reshape(M,1)\n",
    "X10 = parking.reshape(M,1)\n",
    "X11 = prefarea.reshape(M,1)\n",
    "\n",
    "\n",
    "# create X and Y\n",
    "X = np.hstack((X0, X1, X2, X3, X4, X5, X6, X7, X8, X9, X10, X11))\n",
    "Y = price"
   ]
  },
  {
   "cell_type": "code",
   "execution_count": 174,
   "id": "b768033c",
   "metadata": {},
   "outputs": [],
   "source": [
    "theta = np.zeros(12)\n",
    "iterations = 1500;\n",
    "alpha = 0.01;\n",
    "\n",
    "\n",
    "#calculated results from the gradient descent\n",
    "theta, cost_history_StandardTrain = gradient_descent(X, Y, theta, alpha, iterations)"
   ]
  },
  {
   "cell_type": "code",
   "execution_count": 175,
   "id": "132ca126",
   "metadata": {},
   "outputs": [],
   "source": [
    "price = df_StandardTest.values[:, 0]\n",
    "area = df_StandardTest.values[:, 1]\n",
    "bedrooms = df_StandardTest.values[:, 2]\n",
    "bathrooms = df_StandardTest.values[:, 3]\n",
    "stories = df_StandardTest.values[:, 4]\n",
    "mainroad = df_StandardTest.values[:, 5]\n",
    "guestroom = df_StandardTest.values[:, 6]\n",
    "basement = df_StandardTest.values[:, 7]\n",
    "hotwaterheating = df_StandardTest.values[:, 8]\n",
    "airconditioning = df_StandardTest.values[:, 9]\n",
    "parking = df_StandardTest.values[:, 10]\n",
    "prefarea = df_StandardTest.values[:, 11]\n",
    "\n",
    "M = len(df_StandardTest)\n",
    "\n",
    "#reshape arrays\n",
    "X0 = np.ones((M,1))\n",
    "X1 = area.reshape(M,1)\n",
    "X2 = bedrooms.reshape(M,1)\n",
    "X3 = bathrooms.reshape(M,1)\n",
    "X4 = stories.reshape(M,1)\n",
    "X5 = mainroad.reshape(M,1)\n",
    "X6 = guestroom.reshape(M,1)\n",
    "X7 = basement.reshape(M,1)\n",
    "X8 = hotwaterheating.reshape(M,1)\n",
    "X9 = airconditioning.reshape(M,1)\n",
    "X10 = parking.reshape(M,1)\n",
    "X11 = prefarea.reshape(M,1)\n",
    "\n",
    "\n",
    "# create X and Y\n",
    "X = np.hstack((X0, X1, X2, X3, X4, X5, X6, X7, X8, X9, X10, X11))\n",
    "Y = price"
   ]
  },
  {
   "cell_type": "code",
   "execution_count": 176,
   "id": "1304e229",
   "metadata": {},
   "outputs": [],
   "source": [
    "theta = np.zeros(12)\n",
    "iterations = 1500;\n",
    "alpha = 0.01;\n",
    "\n",
    "\n",
    "#calculated results from the gradient descent\n",
    "theta, cost_history_StandardTest = gradient_descent(X, Y, theta, alpha, iterations)"
   ]
  },
  {
   "cell_type": "code",
   "execution_count": 177,
   "id": "741882ee",
   "metadata": {},
   "outputs": [
    {
     "name": "stdout",
     "output_type": "stream",
     "text": [
      "0.16415728655444023\n",
      "0.13271921786709923\n"
     ]
    },
    {
     "data": {
      "image/png": "[encoded data removed]",
      "text/plain": [
       "<Figure size 720x432 with 1 Axes>"
      ]
     },
     "metadata": {
      "needs_background": "light"
     },
     "output_type": "display_data"
    }
   ],
   "source": [
    "plt.plot(range(1, iterations + 1),cost_history_StandardTrain, color='blue', label = \"Training Cost\")\n",
    "plt.plot(range(1, iterations + 1),cost_history_StandardTest, color='red', label = \"Evaluation Cost\")\n",
    "plt.rcParams[\"figure.figsize\"] = (10,6)\n",
    "plt.grid()\n",
    "plt.legend()\n",
    "plt.xlabel('Number of iterations')\n",
    "plt.ylabel('Cost (J)')\n",
    "plt.title('Cost for X with Standardized Input')\n",
    "print(cost_history_StandardTrain[-1])\n",
    "print(cost_history_StandardTest[-1])"
   ]
  },
  {
   "cell_type": "code",
   "execution_count": null,
   "id": "2abbfd67",
   "metadata": {},
   "outputs": [],
   "source": []
  }
 ],
 "metadata": {
  "kernelspec": {
   "display_name": "Python 3 (ipykernel)",
   "language": "python",
   "name": "python3"
  },
  "language_info": {
   "codemirror_mode": {
    "name": "ipython",
    "version": 3
   },
   "file_extension": ".py",
   "mimetype": "text/x-python",
   "name": "python",
   "nbconvert_exporter": "python",
   "pygments_lexer": "ipython3",
   "version": "3.9.12"
  }
 },
 "nbformat": 4,
 "nbformat_minor": 5
}
